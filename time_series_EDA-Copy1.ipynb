{
 "cells": [
  {
   "cell_type": "markdown",
   "metadata": {},
   "source": [
    "# Import Libraries and Data File"
   ]
  },
  {
   "cell_type": "code",
   "execution_count": 1,
   "metadata": {},
   "outputs": [],
   "source": [
    "import pandas as pd\n",
    "import matplotlib.pyplot as plt\n",
    "%matplotlib inline\n",
    "plt.style.use('seaborn')\n",
    "import seaborn as sns\n",
    "sns.set_style('darkgrid')\n",
    "from statsmodels.graphics.tsaplots import plot_pacf, plot_acf \n",
    "import numpy as np\n",
    "import warnings\n",
    "warnings.filterwarnings('ignore')\n",
    "from statsmodels.tsa.arima_model import ARIMA\n",
    "from statsmodels.tsa.stattools import adfuller\n",
    "from sklearn.metrics import mean_squared_error\n",
    "import itertools"
   ]
  },
  {
   "cell_type": "code",
   "execution_count": 2,
   "metadata": {},
   "outputs": [
    {
     "data": {
      "text/html": [
       "<div>\n",
       "<style scoped>\n",
       "    .dataframe tbody tr th:only-of-type {\n",
       "        vertical-align: middle;\n",
       "    }\n",
       "\n",
       "    .dataframe tbody tr th {\n",
       "        vertical-align: top;\n",
       "    }\n",
       "\n",
       "    .dataframe thead th {\n",
       "        text-align: right;\n",
       "    }\n",
       "</style>\n",
       "<table border=\"1\" class=\"dataframe\">\n",
       "  <thead>\n",
       "    <tr style=\"text-align: right;\">\n",
       "      <th></th>\n",
       "      <th>RegionID</th>\n",
       "      <th>RegionName</th>\n",
       "      <th>City</th>\n",
       "      <th>State</th>\n",
       "      <th>Metro</th>\n",
       "      <th>CountyName</th>\n",
       "      <th>SizeRank</th>\n",
       "      <th>1996-04</th>\n",
       "      <th>1996-05</th>\n",
       "      <th>1996-06</th>\n",
       "      <th>...</th>\n",
       "      <th>2017-07</th>\n",
       "      <th>2017-08</th>\n",
       "      <th>2017-09</th>\n",
       "      <th>2017-10</th>\n",
       "      <th>2017-11</th>\n",
       "      <th>2017-12</th>\n",
       "      <th>2018-01</th>\n",
       "      <th>2018-02</th>\n",
       "      <th>2018-03</th>\n",
       "      <th>2018-04</th>\n",
       "    </tr>\n",
       "  </thead>\n",
       "  <tbody>\n",
       "    <tr>\n",
       "      <th>0</th>\n",
       "      <td>84654</td>\n",
       "      <td>60657</td>\n",
       "      <td>Chicago</td>\n",
       "      <td>IL</td>\n",
       "      <td>Chicago</td>\n",
       "      <td>Cook</td>\n",
       "      <td>1</td>\n",
       "      <td>334200.0</td>\n",
       "      <td>335400.0</td>\n",
       "      <td>336500.0</td>\n",
       "      <td>...</td>\n",
       "      <td>1005500</td>\n",
       "      <td>1007500</td>\n",
       "      <td>1007800</td>\n",
       "      <td>1009600</td>\n",
       "      <td>1013300</td>\n",
       "      <td>1018700</td>\n",
       "      <td>1024400</td>\n",
       "      <td>1030700</td>\n",
       "      <td>1033800</td>\n",
       "      <td>1030600</td>\n",
       "    </tr>\n",
       "    <tr>\n",
       "      <th>1</th>\n",
       "      <td>90668</td>\n",
       "      <td>75070</td>\n",
       "      <td>McKinney</td>\n",
       "      <td>TX</td>\n",
       "      <td>Dallas-Fort Worth</td>\n",
       "      <td>Collin</td>\n",
       "      <td>2</td>\n",
       "      <td>235700.0</td>\n",
       "      <td>236900.0</td>\n",
       "      <td>236700.0</td>\n",
       "      <td>...</td>\n",
       "      <td>308000</td>\n",
       "      <td>310000</td>\n",
       "      <td>312500</td>\n",
       "      <td>314100</td>\n",
       "      <td>315000</td>\n",
       "      <td>316600</td>\n",
       "      <td>318100</td>\n",
       "      <td>319600</td>\n",
       "      <td>321100</td>\n",
       "      <td>321800</td>\n",
       "    </tr>\n",
       "    <tr>\n",
       "      <th>2</th>\n",
       "      <td>91982</td>\n",
       "      <td>77494</td>\n",
       "      <td>Katy</td>\n",
       "      <td>TX</td>\n",
       "      <td>Houston</td>\n",
       "      <td>Harris</td>\n",
       "      <td>3</td>\n",
       "      <td>210400.0</td>\n",
       "      <td>212200.0</td>\n",
       "      <td>212200.0</td>\n",
       "      <td>...</td>\n",
       "      <td>321000</td>\n",
       "      <td>320600</td>\n",
       "      <td>320200</td>\n",
       "      <td>320400</td>\n",
       "      <td>320800</td>\n",
       "      <td>321200</td>\n",
       "      <td>321200</td>\n",
       "      <td>323000</td>\n",
       "      <td>326900</td>\n",
       "      <td>329900</td>\n",
       "    </tr>\n",
       "    <tr>\n",
       "      <th>3</th>\n",
       "      <td>84616</td>\n",
       "      <td>60614</td>\n",
       "      <td>Chicago</td>\n",
       "      <td>IL</td>\n",
       "      <td>Chicago</td>\n",
       "      <td>Cook</td>\n",
       "      <td>4</td>\n",
       "      <td>498100.0</td>\n",
       "      <td>500900.0</td>\n",
       "      <td>503100.0</td>\n",
       "      <td>...</td>\n",
       "      <td>1289800</td>\n",
       "      <td>1287700</td>\n",
       "      <td>1287400</td>\n",
       "      <td>1291500</td>\n",
       "      <td>1296600</td>\n",
       "      <td>1299000</td>\n",
       "      <td>1302700</td>\n",
       "      <td>1306400</td>\n",
       "      <td>1308500</td>\n",
       "      <td>1307000</td>\n",
       "    </tr>\n",
       "    <tr>\n",
       "      <th>4</th>\n",
       "      <td>93144</td>\n",
       "      <td>79936</td>\n",
       "      <td>El Paso</td>\n",
       "      <td>TX</td>\n",
       "      <td>El Paso</td>\n",
       "      <td>El Paso</td>\n",
       "      <td>5</td>\n",
       "      <td>77300.0</td>\n",
       "      <td>77300.0</td>\n",
       "      <td>77300.0</td>\n",
       "      <td>...</td>\n",
       "      <td>119100</td>\n",
       "      <td>119400</td>\n",
       "      <td>120000</td>\n",
       "      <td>120300</td>\n",
       "      <td>120300</td>\n",
       "      <td>120300</td>\n",
       "      <td>120300</td>\n",
       "      <td>120500</td>\n",
       "      <td>121000</td>\n",
       "      <td>121500</td>\n",
       "    </tr>\n",
       "  </tbody>\n",
       "</table>\n",
       "<p>5 rows × 272 columns</p>\n",
       "</div>"
      ],
      "text/plain": [
       "   RegionID  RegionName      City State              Metro CountyName  \\\n",
       "0     84654       60657   Chicago    IL            Chicago       Cook   \n",
       "1     90668       75070  McKinney    TX  Dallas-Fort Worth     Collin   \n",
       "2     91982       77494      Katy    TX            Houston     Harris   \n",
       "3     84616       60614   Chicago    IL            Chicago       Cook   \n",
       "4     93144       79936   El Paso    TX            El Paso    El Paso   \n",
       "\n",
       "   SizeRank   1996-04   1996-05   1996-06  ...  2017-07  2017-08  2017-09  \\\n",
       "0         1  334200.0  335400.0  336500.0  ...  1005500  1007500  1007800   \n",
       "1         2  235700.0  236900.0  236700.0  ...   308000   310000   312500   \n",
       "2         3  210400.0  212200.0  212200.0  ...   321000   320600   320200   \n",
       "3         4  498100.0  500900.0  503100.0  ...  1289800  1287700  1287400   \n",
       "4         5   77300.0   77300.0   77300.0  ...   119100   119400   120000   \n",
       "\n",
       "   2017-10  2017-11  2017-12  2018-01  2018-02  2018-03  2018-04  \n",
       "0  1009600  1013300  1018700  1024400  1030700  1033800  1030600  \n",
       "1   314100   315000   316600   318100   319600   321100   321800  \n",
       "2   320400   320800   321200   321200   323000   326900   329900  \n",
       "3  1291500  1296600  1299000  1302700  1306400  1308500  1307000  \n",
       "4   120300   120300   120300   120300   120500   121000   121500  \n",
       "\n",
       "[5 rows x 272 columns]"
      ]
     },
     "execution_count": 2,
     "metadata": {},
     "output_type": "execute_result"
    }
   ],
   "source": [
    "df = pd.read_csv('zillow_data.csv')\n",
    "df.head()"
   ]
  },
  {
   "cell_type": "code",
   "execution_count": 3,
   "metadata": {
    "scrolled": false
   },
   "outputs": [
    {
     "data": {
      "text/plain": [
       "RegionID       int64\n",
       "RegionName     int64\n",
       "City          object\n",
       "State         object\n",
       "Metro         object\n",
       "               ...  \n",
       "2017-12        int64\n",
       "2018-01        int64\n",
       "2018-02        int64\n",
       "2018-03        int64\n",
       "2018-04        int64\n",
       "Length: 272, dtype: object"
      ]
     },
     "execution_count": 3,
     "metadata": {},
     "output_type": "execute_result"
    }
   ],
   "source": [
    "df.dtypes"
   ]
  },
  {
   "cell_type": "code",
   "execution_count": 4,
   "metadata": {},
   "outputs": [
    {
     "name": "stdout",
     "output_type": "stream",
     "text": [
      "<class 'pandas.core.frame.DataFrame'>\n",
      "RangeIndex: 14723 entries, 0 to 14722\n",
      "Columns: 272 entries, RegionID to 2018-04\n",
      "dtypes: float64(219), int64(49), object(4)\n",
      "memory usage: 30.6+ MB\n"
     ]
    }
   ],
   "source": [
    "df.info()"
   ]
  },
  {
   "cell_type": "code",
   "execution_count": 5,
   "metadata": {},
   "outputs": [],
   "source": [
    "# Drop unnecessary columns \n",
    "df.drop(['RegionID','SizeRank'], axis=1, inplace=True)"
   ]
  },
  {
   "cell_type": "markdown",
   "metadata": {},
   "source": [
    "# Data Preprocessing"
   ]
  },
  {
   "cell_type": "code",
   "execution_count": 6,
   "metadata": {},
   "outputs": [],
   "source": [
    "def melt_data(df):\n",
    "    '''\n",
    "    function to reshape dataframe into a pandas datetime from wide to long format\n",
    "    '''\n",
    "    melted = pd.melt(df, id_vars=['RegionName', 'City', 'State', 'Metro', 'CountyName'], var_name='time')\n",
    "    melted['time'] = pd.to_datetime(melted['time'], infer_datetime_format=True)\n",
    "    melted = melted.dropna(subset=['value'])\n",
    "    return melted.groupby('time').aggregate({'value':'mean'})\n",
    "\n",
    "def evaluate_arima_model(X, arima_order):\n",
    "    '''\n",
    "    evaluate an ARIMA model for a given order (p,d,q)\n",
    "    '''\n",
    "    # prepare training dataset\n",
    "    train_size = int(len(X) * 0.66)\n",
    "    train, test = X[0:train_size], X[train_size:]\n",
    "    history = [x for x in train]\n",
    "    # make predictions\n",
    "    predictions = list()\n",
    "    for t in range(len(test)):\n",
    "        model = ARIMA(history, order=arima_order)\n",
    "        model_fit = model.fit(disp=0)\n",
    "        yhat = model_fit.forecast()[0]\n",
    "        predictions.append(yhat)\n",
    "        history.append(test[t])\n",
    "    # calculate out of sample error\n",
    "    error = mean_squared_error(test, predictions)\n",
    "    return error\n",
    "\n",
    "def evaluate_models(dataset, p_values, d_values, q_values):\n",
    "    '''\n",
    "     evaluate combinations of p, d and q values for an ARIMA model\n",
    "    '''\n",
    "    dataset = dataset.astype('float32')\n",
    "    best_score, best_cfg = float(\"inf\"), None\n",
    "    for p in p_values:\n",
    "        for d in d_values:\n",
    "            for q in q_values:\n",
    "                order = (p,d,q)\n",
    "                try:\n",
    "                    mse = evaluate_arima_model(dataset, order)\n",
    "                    if mse < best_score:\n",
    "                        best_score, best_cfg = mse, order\n",
    "                    print('ARIMA%s MSE=%.3f' % (order,mse))\n",
    "                except:\n",
    "                    continue\n",
    "    print('Best ARIMA%s MSE=%.3f' % (best_cfg, best_score))\n",
    "    return best_cfg"
   ]
  },
  {
   "cell_type": "code",
   "execution_count": 7,
   "metadata": {},
   "outputs": [
    {
     "data": {
      "text/html": [
       "<div>\n",
       "<style scoped>\n",
       "    .dataframe tbody tr th:only-of-type {\n",
       "        vertical-align: middle;\n",
       "    }\n",
       "\n",
       "    .dataframe tbody tr th {\n",
       "        vertical-align: top;\n",
       "    }\n",
       "\n",
       "    .dataframe thead th {\n",
       "        text-align: right;\n",
       "    }\n",
       "</style>\n",
       "<table border=\"1\" class=\"dataframe\">\n",
       "  <thead>\n",
       "    <tr style=\"text-align: right;\">\n",
       "      <th></th>\n",
       "      <th>value</th>\n",
       "    </tr>\n",
       "    <tr>\n",
       "      <th>time</th>\n",
       "      <th></th>\n",
       "    </tr>\n",
       "  </thead>\n",
       "  <tbody>\n",
       "    <tr>\n",
       "      <th>1996-04-01</th>\n",
       "      <td>118299.123063</td>\n",
       "    </tr>\n",
       "    <tr>\n",
       "      <th>1996-05-01</th>\n",
       "      <td>118419.044139</td>\n",
       "    </tr>\n",
       "    <tr>\n",
       "      <th>1996-06-01</th>\n",
       "      <td>118537.423268</td>\n",
       "    </tr>\n",
       "    <tr>\n",
       "      <th>1996-07-01</th>\n",
       "      <td>118653.069278</td>\n",
       "    </tr>\n",
       "    <tr>\n",
       "      <th>1996-08-01</th>\n",
       "      <td>118780.254312</td>\n",
       "    </tr>\n",
       "  </tbody>\n",
       "</table>\n",
       "</div>"
      ],
      "text/plain": [
       "                    value\n",
       "time                     \n",
       "1996-04-01  118299.123063\n",
       "1996-05-01  118419.044139\n",
       "1996-06-01  118537.423268\n",
       "1996-07-01  118653.069278\n",
       "1996-08-01  118780.254312"
      ]
     },
     "execution_count": 7,
     "metadata": {},
     "output_type": "execute_result"
    }
   ],
   "source": [
    "df_melt = melt_data(df)\n",
    "df_melt.head()"
   ]
  },
  {
   "cell_type": "markdown",
   "metadata": {},
   "source": [
    "# Visualization"
   ]
  },
  {
   "cell_type": "code",
   "execution_count": 9,
   "metadata": {},
   "outputs": [
    {
     "data": {
      "image/png": "[encoded data removed]",
      "text/plain": [
       "<Figure size 864x576 with 1 Axes>"
      ]
     },
     "metadata": {},
     "output_type": "display_data"
    }
   ],
   "source": [
    "df_melt.plot(kind='line', figsize=(12,8))\n",
    "plt.title('Property Value Over Time', fontsize=28)\n",
    "plt.xlabel('Time', fontsize=24)\n",
    "plt.xticks(fontsize=20)\n",
    "plt.yticks(fontsize=20)\n",
    "plt.ylabel('House Price', fontsize=24)\n",
    "plt.legend(fontsize=20);"
   ]
  },
  {
   "cell_type": "markdown",
   "metadata": {},
   "source": [
    "##### Comment: \n",
    "There was a housing market crash in the years of 2008 and 2009, due to recession. There is a very strong correlation between the property recent value and the distant past value as the houses lose and recover their values over time. To make a good analysis for house market, we will limit the time from after 2012 which was the time after the recession."
   ]
  },
  {
   "cell_type": "markdown",
   "metadata": {},
   "source": [
    "# Time Series Analysis and ARIMA Modeling"
   ]
  },
  {
   "cell_type": "markdown",
   "metadata": {},
   "source": [
    "Return On Investment, or called ROI is used to determined the Top 5 Zipcodes in Harris Country, TX for investment. \n",
    "\n",
    "ROI is the ratio between new profit over a period of time and the cost of investment. Therefore, the higher ROI, the more profit returns from the investment."
   ]
  },
  {
   "cell_type": "code",
   "execution_count": 10,
   "metadata": {},
   "outputs": [
    {
     "name": "stdout",
     "output_type": "stream",
     "text": [
      "77494\n",
      "ARIMA(0, 0, 0) MSE=2073276628.837\n",
      "ARIMA(0, 0, 1) MSE=525240997.364\n",
      "ARIMA(0, 1, 0) MSE=2095195.972\n",
      "ARIMA(0, 1, 1) MSE=898841.132\n",
      "ARIMA(1, 0, 0) MSE=2686691.966\n",
      "ARIMA(1, 1, 0) MSE=593860.641\n",
      "ARIMA(2, 1, 0) MSE=622692.753\n",
      "ARIMA(2, 1, 1) MSE=567189.460\n",
      "Best ARIMA(2, 1, 1) MSE=567189.460\n",
      "77084\n",
      "ARIMA(0, 0, 0) MSE=591209013.652\n",
      "ARIMA(0, 0, 1) MSE=150283310.692\n",
      "ARIMA(0, 1, 0) MSE=547011.678\n",
      "ARIMA(0, 1, 1) MSE=193633.615\n",
      "ARIMA(1, 0, 0) MSE=702587.023\n",
      "ARIMA(1, 1, 0) MSE=100188.030\n",
      "ARIMA(1, 1, 1) MSE=78686.899\n",
      "ARIMA(2, 0, 0) MSE=102388.828\n",
      "ARIMA(2, 1, 0) MSE=87448.156\n",
      "ARIMA(2, 1, 1) MSE=83470.616\n",
      "Best ARIMA(1, 1, 1) MSE=78686.899\n",
      "77449\n",
      "ARIMA(0, 0, 0) MSE=719978089.089\n",
      "ARIMA(0, 0, 1) MSE=183334922.902\n",
      "ARIMA(0, 1, 0) MSE=719730.734\n",
      "ARIMA(0, 1, 1) MSE=268916.547\n",
      "ARIMA(1, 0, 0) MSE=945911.778\n",
      "ARIMA(1, 1, 0) MSE=79857.768\n",
      "ARIMA(1, 1, 1) MSE=69467.329\n",
      "ARIMA(2, 0, 0) MSE=84724.266\n",
      "ARIMA(2, 0, 1) MSE=71468.309\n",
      "ARIMA(2, 1, 0) MSE=81604.938\n",
      "ARIMA(2, 1, 1) MSE=83709.110\n",
      "Best ARIMA(1, 1, 1) MSE=69467.329\n",
      "77429\n",
      "ARIMA(0, 0, 0) MSE=1533335346.664\n",
      "ARIMA(0, 0, 1) MSE=388401568.040\n",
      "ARIMA(0, 1, 0) MSE=900308.939\n",
      "ARIMA(0, 1, 1) MSE=315680.367\n",
      "ARIMA(1, 0, 0) MSE=1239835.865\n",
      "ARIMA(1, 1, 0) MSE=150747.637\n",
      "ARIMA(1, 1, 1) MSE=125532.085\n",
      "ARIMA(2, 0, 1) MSE=132613.777\n",
      "ARIMA(2, 1, 0) MSE=155534.533\n",
      "ARIMA(2, 1, 1) MSE=149198.023\n",
      "Best ARIMA(1, 1, 1) MSE=125532.085\n",
      "77036\n",
      "ARIMA(0, 0, 0) MSE=674355121.673\n",
      "ARIMA(0, 1, 0) MSE=1605635.524\n",
      "ARIMA(0, 1, 1) MSE=557086.573\n",
      "ARIMA(1, 1, 0) MSE=569409.394\n",
      "ARIMA(1, 1, 1) MSE=353466.010\n",
      "ARIMA(2, 1, 0) MSE=455127.622\n",
      "ARIMA(2, 1, 1) MSE=357457.384\n",
      "Best ARIMA(1, 1, 1) MSE=353466.010\n",
      "77433\n",
      "ARIMA(0, 0, 0) MSE=1872173393.330\n",
      "ARIMA(0, 0, 1) MSE=472784366.287\n",
      "ARIMA(0, 1, 0) MSE=1056921.208\n",
      "ARIMA(0, 1, 1) MSE=362087.870\n",
      "ARIMA(1, 0, 0) MSE=1401306.609\n",
      "ARIMA(1, 1, 0) MSE=211701.156\n",
      "ARIMA(1, 1, 1) MSE=163522.209\n",
      "ARIMA(2, 0, 0) MSE=222905.025\n",
      "ARIMA(2, 0, 1) MSE=169251.641\n",
      "ARIMA(2, 1, 0) MSE=214286.337\n",
      "ARIMA(2, 1, 1) MSE=197342.451\n",
      "Best ARIMA(1, 1, 1) MSE=163522.209\n",
      "77077\n",
      "ARIMA(0, 0, 0) MSE=4167244082.578\n",
      "ARIMA(0, 0, 1) MSE=1052366775.210\n",
      "ARIMA(0, 1, 0) MSE=3158798.583\n",
      "ARIMA(0, 1, 1) MSE=971960.344\n",
      "ARIMA(1, 0, 0) MSE=3914176.642\n",
      "ARIMA(1, 1, 0) MSE=634564.781\n",
      "ARIMA(1, 1, 1) MSE=370361.258\n",
      "ARIMA(2, 0, 0) MSE=667269.379\n",
      "ARIMA(2, 1, 0) MSE=493546.044\n",
      "ARIMA(2, 1, 1) MSE=396333.083\n",
      "Best ARIMA(1, 1, 1) MSE=370361.258\n",
      "77379\n",
      "ARIMA(0, 0, 0) MSE=1461861795.864\n",
      "ARIMA(0, 1, 0) MSE=1055834.712\n",
      "ARIMA(0, 1, 1) MSE=358373.328\n",
      "ARIMA(1, 1, 0) MSE=137762.526\n",
      "ARIMA(1, 1, 1) MSE=111426.737\n",
      "ARIMA(2, 1, 0) MSE=132667.192\n",
      "ARIMA(2, 1, 1) MSE=122142.178\n",
      "Best ARIMA(1, 1, 1) MSE=111426.737\n",
      "77095\n",
      "ARIMA(0, 0, 0) MSE=1205936747.350\n",
      "ARIMA(0, 0, 1) MSE=306001312.864\n",
      "ARIMA(0, 1, 0) MSE=1071281.410\n",
      "ARIMA(0, 1, 1) MSE=371322.955\n",
      "ARIMA(1, 0, 0) MSE=1337895.659\n",
      "ARIMA(1, 1, 0) MSE=253667.418\n",
      "ARIMA(1, 1, 1) MSE=200944.300\n",
      "ARIMA(2, 0, 0) MSE=257545.335\n",
      "ARIMA(2, 1, 0) MSE=245674.612\n",
      "ARIMA(2, 1, 1) MSE=213612.096\n",
      "Best ARIMA(1, 1, 1) MSE=200944.300\n",
      "77082\n",
      "ARIMA(0, 0, 0) MSE=526359851.331\n",
      "ARIMA(0, 1, 0) MSE=636441.897\n",
      "ARIMA(0, 1, 1) MSE=230674.932\n",
      "ARIMA(1, 1, 0) MSE=128785.998\n",
      "ARIMA(1, 1, 1) MSE=108820.614\n",
      "ARIMA(2, 1, 0) MSE=122139.521\n",
      "ARIMA(2, 1, 1) MSE=112904.274\n",
      "Best ARIMA(1, 1, 1) MSE=108820.614\n",
      "77057\n",
      "ARIMA(0, 0, 0) MSE=6371432844.068\n",
      "ARIMA(0, 1, 0) MSE=15309041.300\n",
      "ARIMA(0, 1, 1) MSE=5464702.178\n",
      "ARIMA(1, 1, 0) MSE=4932760.084\n",
      "ARIMA(1, 1, 1) MSE=3413416.759\n",
      "ARIMA(2, 0, 1) MSE=3534769.777\n",
      "ARIMA(2, 1, 0) MSE=4096154.303\n",
      "ARIMA(2, 1, 1) MSE=3442685.673\n",
      "Best ARIMA(1, 1, 1) MSE=3413416.759\n",
      "77007\n",
      "ARIMA(0, 0, 0) MSE=5014048350.831\n",
      "ARIMA(0, 0, 1) MSE=1257931889.780\n",
      "ARIMA(0, 1, 0) MSE=4781546.214\n",
      "ARIMA(0, 1, 1) MSE=1428117.303\n",
      "ARIMA(1, 0, 0) MSE=5274921.008\n",
      "ARIMA(1, 1, 0) MSE=571339.337\n",
      "ARIMA(1, 1, 1) MSE=399460.482\n",
      "ARIMA(2, 0, 1) MSE=421305.645\n",
      "ARIMA(2, 1, 0) MSE=537036.661\n",
      "ARIMA(2, 1, 1) MSE=429984.567\n",
      "Best ARIMA(1, 1, 1) MSE=399460.482\n",
      "77521\n",
      "ARIMA(0, 0, 0) MSE=520258086.113\n",
      "ARIMA(0, 0, 1) MSE=133282039.589\n",
      "ARIMA(0, 1, 0) MSE=462834.360\n",
      "ARIMA(0, 1, 1) MSE=186897.304\n",
      "ARIMA(1, 0, 0) MSE=651398.517\n",
      "ARIMA(1, 1, 0) MSE=79126.146\n",
      "ARIMA(1, 1, 1) MSE=69161.739\n",
      "ARIMA(2, 0, 1) MSE=71096.110\n",
      "ARIMA(2, 1, 0) MSE=73852.186\n",
      "ARIMA(2, 1, 1) MSE=76224.318\n",
      "Best ARIMA(1, 1, 1) MSE=69161.739\n",
      "77346\n",
      "ARIMA(0, 0, 0) MSE=981464374.230\n",
      "ARIMA(0, 0, 1) MSE=249327817.021\n",
      "ARIMA(0, 1, 0) MSE=696528.939\n",
      "ARIMA(0, 1, 1) MSE=266000.542\n",
      "ARIMA(1, 0, 0) MSE=961463.070\n",
      "ARIMA(1, 1, 0) MSE=133660.842\n",
      "ARIMA(1, 1, 1) MSE=120790.588\n",
      "ARIMA(2, 1, 0) MSE=131623.909\n",
      "ARIMA(2, 1, 1) MSE=129435.111\n",
      "Best ARIMA(1, 1, 1) MSE=120790.588\n",
      "77070\n",
      "ARIMA(0, 0, 0) MSE=861964645.570\n",
      "ARIMA(0, 0, 1) MSE=218657188.873\n",
      "ARIMA(0, 1, 0) MSE=583771.408\n",
      "ARIMA(0, 1, 1) MSE=200389.126\n",
      "ARIMA(1, 0, 0) MSE=791586.367\n",
      "ARIMA(1, 1, 0) MSE=87553.749\n",
      "ARIMA(1, 1, 1) MSE=79199.145\n",
      "ARIMA(2, 1, 0) MSE=85948.651\n",
      "ARIMA(2, 1, 1) MSE=85033.937\n",
      "Best ARIMA(1, 1, 1) MSE=79199.145\n",
      "77375\n",
      "ARIMA(0, 0, 0) MSE=927479902.422\n",
      "ARIMA(0, 1, 0) MSE=749378.589\n",
      "ARIMA(0, 1, 1) MSE=251491.512\n",
      "ARIMA(1, 1, 0) MSE=96682.155\n",
      "ARIMA(1, 1, 1) MSE=77602.324\n",
      "ARIMA(2, 0, 1) MSE=81250.767\n",
      "ARIMA(2, 1, 0) MSE=86262.830\n",
      "ARIMA(2, 1, 1) MSE=86696.776\n",
      "Best ARIMA(1, 1, 1) MSE=77602.324\n",
      "77373\n",
      "ARIMA(0, 0, 0) MSE=458242853.148\n",
      "ARIMA(0, 0, 1) MSE=116912177.016\n",
      "ARIMA(0, 1, 0) MSE=562840.867\n",
      "ARIMA(0, 1, 1) MSE=178529.264\n",
      "ARIMA(1, 0, 0) MSE=716541.958\n",
      "ARIMA(1, 1, 0) MSE=78203.276\n",
      "ARIMA(1, 1, 1) MSE=64413.218\n",
      "ARIMA(2, 0, 1) MSE=65515.250\n",
      "ARIMA(2, 1, 0) MSE=69668.731\n",
      "ARIMA(2, 1, 1) MSE=68940.532\n",
      "Best ARIMA(1, 1, 1) MSE=64413.218\n",
      "77081\n",
      "ARIMA(0, 0, 0) MSE=4184958922.256\n",
      "ARIMA(0, 0, 1) MSE=1060440423.484\n",
      "ARIMA(0, 1, 0) MSE=7289049.565\n",
      "ARIMA(0, 1, 1) MSE=2937794.537\n",
      "ARIMA(1, 0, 0) MSE=7963479.036\n",
      "ARIMA(1, 1, 0) MSE=2571372.507\n",
      "ARIMA(2, 1, 0) MSE=2061631.215\n",
      "Best ARIMA(2, 1, 0) MSE=2061631.215\n",
      "77063\n",
      "ARIMA(0, 0, 0) MSE=3806236258.326\n",
      "ARIMA(0, 0, 1) MSE=963294907.443\n",
      "ARIMA(0, 1, 0) MSE=5941393.700\n",
      "ARIMA(0, 1, 1) MSE=2119159.739\n",
      "ARIMA(1, 0, 0) MSE=6672913.036\n",
      "ARIMA(1, 1, 0) MSE=2335227.867\n",
      "ARIMA(1, 1, 1) MSE=1606438.151\n",
      "ARIMA(2, 1, 0) MSE=2157237.312\n",
      "ARIMA(2, 1, 1) MSE=1668924.113\n",
      "Best ARIMA(1, 1, 1) MSE=1606438.151\n",
      "77386\n",
      "ARIMA(0, 0, 0) MSE=1407291303.117\n",
      "ARIMA(0, 0, 1) MSE=356227903.457\n",
      "ARIMA(0, 1, 0) MSE=785678.642\n",
      "ARIMA(0, 1, 1) MSE=266306.666\n",
      "ARIMA(1, 0, 0) MSE=1058974.632\n",
      "ARIMA(1, 1, 0) MSE=188189.737\n",
      "ARIMA(1, 1, 1) MSE=130161.451\n",
      "ARIMA(2, 0, 0) MSE=193229.173\n",
      "ARIMA(2, 1, 0) MSE=154511.409\n",
      "ARIMA(2, 1, 1) MSE=131231.043\n",
      "Best ARIMA(1, 1, 1) MSE=130161.451\n",
      "77042\n",
      "ARIMA(0, 0, 0) MSE=5610615761.571\n",
      "ARIMA(0, 1, 0) MSE=4401413.831\n",
      "ARIMA(0, 1, 1) MSE=1457411.319\n",
      "ARIMA(1, 1, 0) MSE=1414199.292\n",
      "ARIMA(1, 1, 1) MSE=844667.402\n",
      "ARIMA(2, 1, 0) MSE=1254670.997\n",
      "ARIMA(2, 1, 1) MSE=858032.288\n",
      "Best ARIMA(1, 1, 1) MSE=844667.402\n",
      "77072\n",
      "ARIMA(0, 0, 0) MSE=328101071.587\n",
      "ARIMA(0, 0, 1) MSE=84839701.364\n",
      "ARIMA(0, 1, 0) MSE=726544.373\n",
      "ARIMA(0, 1, 1) MSE=314646.765\n",
      "ARIMA(1, 0, 0) MSE=883072.919\n",
      "ARIMA(1, 1, 0) MSE=230703.422\n",
      "ARIMA(1, 1, 1) MSE=204407.841\n",
      "ARIMA(2, 0, 0) MSE=234669.490\n",
      "ARIMA(2, 1, 0) MSE=220973.794\n",
      "ARIMA(2, 1, 1) MSE=212326.573\n",
      "Best ARIMA(1, 1, 1) MSE=204407.841\n",
      "77015\n",
      "ARIMA(0, 0, 0) MSE=363180712.227\n",
      "ARIMA(0, 0, 1) MSE=93664442.084\n",
      "ARIMA(0, 1, 0) MSE=420868.310\n",
      "ARIMA(0, 1, 1) MSE=171790.665\n",
      "ARIMA(1, 0, 0) MSE=580119.598\n",
      "ARIMA(1, 1, 0) MSE=94673.840\n",
      "ARIMA(1, 1, 1) MSE=90434.382\n",
      "ARIMA(2, 0, 0) MSE=96297.124\n",
      "ARIMA(2, 1, 0) MSE=94825.186\n",
      "Best ARIMA(1, 1, 1) MSE=90434.382\n",
      "77396\n",
      "ARIMA(0, 0, 0) MSE=542978099.829\n",
      "ARIMA(0, 0, 1) MSE=138909465.087\n",
      "ARIMA(0, 1, 0) MSE=719681.954\n",
      "ARIMA(0, 1, 1) MSE=235939.239\n",
      "ARIMA(1, 0, 0) MSE=916139.654\n",
      "ARIMA(1, 1, 0) MSE=110404.043\n",
      "ARIMA(1, 1, 1) MSE=82789.735\n",
      "ARIMA(2, 0, 0) MSE=112013.635\n",
      "ARIMA(2, 1, 0) MSE=88793.318\n",
      "ARIMA(2, 1, 1) MSE=85907.226\n",
      "Best ARIMA(1, 1, 1) MSE=82789.735\n",
      "77008\n",
      "ARIMA(0, 0, 0) MSE=7107665892.309\n",
      "ARIMA(0, 0, 1) MSE=1798069687.630\n",
      "ARIMA(0, 1, 0) MSE=5057555.362\n",
      "ARIMA(0, 1, 1) MSE=1546103.631\n",
      "ARIMA(1, 0, 0) MSE=6591223.763\n",
      "ARIMA(1, 1, 0) MSE=618324.148\n",
      "ARIMA(1, 1, 1) MSE=438185.465\n",
      "ARIMA(2, 0, 1) MSE=479654.231\n",
      "ARIMA(2, 1, 0) MSE=616036.470\n",
      "ARIMA(2, 1, 1) MSE=537037.995\n",
      "Best ARIMA(1, 1, 1) MSE=438185.465\n",
      "77040\n",
      "ARIMA(0, 0, 0) MSE=561738043.780\n",
      "ARIMA(0, 0, 1) MSE=144077850.672\n",
      "ARIMA(0, 1, 0) MSE=622140.969\n",
      "ARIMA(0, 1, 1) MSE=202419.829\n",
      "ARIMA(1, 0, 0) MSE=835862.666\n",
      "ARIMA(1, 1, 0) MSE=134647.224\n",
      "ARIMA(1, 1, 1) MSE=95804.025\n"
     ]
    },
    {
     "name": "stdout",
     "output_type": "stream",
     "text": [
      "ARIMA(2, 0, 0) MSE=136701.571\n",
      "ARIMA(2, 1, 0) MSE=124468.570\n",
      "ARIMA(2, 1, 1) MSE=96624.440\n",
      "Best ARIMA(1, 1, 1) MSE=95804.025\n",
      "77089\n",
      "ARIMA(0, 0, 0) MSE=737566817.463\n",
      "ARIMA(0, 0, 1) MSE=188656685.441\n",
      "ARIMA(0, 1, 0) MSE=670248.289\n",
      "ARIMA(0, 1, 1) MSE=222345.320\n",
      "ARIMA(1, 0, 0) MSE=911789.118\n",
      "ARIMA(1, 1, 0) MSE=98850.334\n",
      "ARIMA(1, 1, 1) MSE=80135.639\n",
      "ARIMA(2, 1, 0) MSE=93412.554\n",
      "ARIMA(2, 1, 1) MSE=86760.554\n",
      "Best ARIMA(1, 1, 1) MSE=80135.639\n",
      "77339\n",
      "ARIMA(0, 0, 0) MSE=1154444028.095\n",
      "ARIMA(0, 0, 1) MSE=293442672.600\n",
      "ARIMA(0, 1, 0) MSE=627575.170\n",
      "ARIMA(0, 1, 1) MSE=221405.969\n",
      "ARIMA(1, 0, 0) MSE=917405.080\n",
      "ARIMA(1, 1, 0) MSE=112869.509\n",
      "ARIMA(1, 1, 1) MSE=92289.310\n",
      "ARIMA(2, 0, 0) MSE=115390.614\n",
      "ARIMA(2, 1, 0) MSE=96900.770\n",
      "ARIMA(2, 1, 1) MSE=95370.375\n",
      "Best ARIMA(1, 1, 1) MSE=92289.310\n",
      "77088\n",
      "ARIMA(0, 0, 0) MSE=312735913.185\n",
      "ARIMA(0, 0, 1) MSE=79989646.681\n",
      "ARIMA(0, 1, 0) MSE=435253.208\n",
      "ARIMA(0, 1, 1) MSE=161905.384\n",
      "ARIMA(1, 0, 0) MSE=557474.887\n",
      "ARIMA(1, 1, 0) MSE=79718.796\n",
      "ARIMA(1, 1, 1) MSE=73668.068\n",
      "ARIMA(2, 0, 1) MSE=74901.685\n",
      "ARIMA(2, 1, 0) MSE=75444.245\n",
      "ARIMA(2, 1, 1) MSE=77228.717\n",
      "Best ARIMA(1, 1, 1) MSE=73668.068\n",
      "77099\n",
      "ARIMA(0, 0, 0) MSE=376958068.720\n",
      "ARIMA(0, 0, 1) MSE=97031377.436\n",
      "ARIMA(0, 1, 0) MSE=754412.273\n",
      "ARIMA(0, 1, 1) MSE=285007.725\n",
      "ARIMA(1, 0, 0) MSE=922955.635\n",
      "ARIMA(1, 1, 0) MSE=221198.617\n",
      "ARIMA(1, 1, 1) MSE=186297.486\n",
      "ARIMA(2, 0, 0) MSE=225419.804\n",
      "ARIMA(2, 1, 0) MSE=210537.624\n",
      "ARIMA(2, 1, 1) MSE=190583.561\n",
      "Best ARIMA(1, 1, 1) MSE=186297.486\n",
      "77090\n",
      "ARIMA(0, 0, 0) MSE=613648442.951\n",
      "ARIMA(0, 0, 1) MSE=155770436.798\n",
      "ARIMA(0, 1, 0) MSE=811393.219\n",
      "ARIMA(0, 1, 1) MSE=278121.932\n",
      "ARIMA(1, 0, 0) MSE=980143.514\n",
      "ARIMA(1, 1, 0) MSE=123758.279\n",
      "ARIMA(1, 1, 1) MSE=101764.740\n",
      "ARIMA(2, 0, 0) MSE=123062.944\n",
      "ARIMA(2, 0, 1) MSE=102509.029\n",
      "ARIMA(2, 1, 0) MSE=111355.303\n",
      "ARIMA(2, 1, 1) MSE=106303.644\n",
      "Best ARIMA(1, 1, 1) MSE=101764.740\n",
      "77388\n",
      "ARIMA(0, 0, 0) MSE=827670965.003\n",
      "ARIMA(0, 0, 1) MSE=210202853.262\n",
      "ARIMA(0, 1, 0) MSE=697568.176\n",
      "ARIMA(0, 1, 1) MSE=226846.442\n",
      "ARIMA(1, 0, 0) MSE=907685.458\n",
      "ARIMA(1, 1, 0) MSE=131055.145\n",
      "ARIMA(1, 1, 1) MSE=105186.596\n",
      "ARIMA(2, 0, 0) MSE=137439.873\n",
      "ARIMA(2, 0, 1) MSE=110398.577\n",
      "ARIMA(2, 1, 0) MSE=132136.965\n",
      "ARIMA(2, 1, 1) MSE=129909.050\n",
      "Best ARIMA(1, 1, 1) MSE=105186.596\n",
      "77024\n",
      "ARIMA(0, 0, 0) MSE=27734105749.634\n",
      "ARIMA(0, 0, 1) MSE=7026499363.365\n",
      "ARIMA(0, 1, 0) MSE=11554280.584\n",
      "ARIMA(0, 1, 1) MSE=3855680.840\n",
      "ARIMA(1, 0, 0) MSE=17881176.002\n",
      "ARIMA(1, 1, 0) MSE=3106886.340\n",
      "ARIMA(2, 0, 0) MSE=3371617.810\n",
      "ARIMA(2, 1, 0) MSE=3032613.156\n",
      "ARIMA(2, 1, 1) MSE=2298131.923\n",
      "Best ARIMA(2, 1, 1) MSE=2298131.923\n",
      "77064\n",
      "ARIMA(0, 0, 0) MSE=550612712.830\n",
      "ARIMA(0, 0, 1) MSE=140411941.124\n",
      "ARIMA(0, 1, 0) MSE=461315.098\n",
      "ARIMA(0, 1, 1) MSE=177596.822\n",
      "ARIMA(1, 0, 0) MSE=636108.212\n",
      "ARIMA(1, 1, 0) MSE=113886.331\n",
      "ARIMA(1, 1, 1) MSE=97903.657\n",
      "ARIMA(2, 0, 0) MSE=116206.265\n",
      "ARIMA(2, 1, 0) MSE=105275.322\n",
      "ARIMA(2, 1, 1) MSE=99696.060\n",
      "Best ARIMA(1, 1, 1) MSE=97903.657\n",
      "77004\n",
      "ARIMA(0, 0, 0) MSE=2781080438.542\n",
      "ARIMA(0, 0, 1) MSE=710298158.778\n",
      "ARIMA(0, 1, 0) MSE=4284289.933\n",
      "ARIMA(0, 1, 1) MSE=1382166.735\n",
      "ARIMA(1, 0, 0) MSE=5264991.776\n",
      "ARIMA(1, 1, 0) MSE=908287.279\n",
      "ARIMA(1, 1, 1) MSE=612367.612\n",
      "ARIMA(2, 0, 0) MSE=928394.576\n",
      "ARIMA(2, 1, 0) MSE=781911.350\n",
      "ARIMA(2, 1, 1) MSE=656401.429\n",
      "Best ARIMA(1, 1, 1) MSE=612367.612\n",
      "77080\n",
      "ARIMA(0, 0, 0) MSE=3303350173.474\n",
      "ARIMA(0, 0, 1) MSE=839067368.374\n",
      "ARIMA(0, 1, 0) MSE=2083791.932\n",
      "ARIMA(0, 1, 1) MSE=658385.582\n",
      "ARIMA(1, 0, 0) MSE=2935183.490\n",
      "ARIMA(1, 1, 0) MSE=448764.828\n",
      "ARIMA(1, 1, 1) MSE=296208.048\n",
      "ARIMA(2, 0, 0) MSE=472625.114\n",
      "ARIMA(2, 1, 0) MSE=386930.243\n",
      "ARIMA(2, 1, 1) MSE=299081.398\n",
      "Best ARIMA(1, 1, 1) MSE=296208.048\n",
      "77055\n",
      "ARIMA(0, 0, 0) MSE=8268946235.747\n",
      "ARIMA(0, 0, 1) MSE=2095344519.330\n",
      "ARIMA(0, 1, 0) MSE=5335144.767\n",
      "ARIMA(0, 1, 1) MSE=2072600.379\n",
      "ARIMA(1, 0, 0) MSE=7281961.913\n",
      "ARIMA(1, 1, 0) MSE=1352950.357\n",
      "ARIMA(1, 1, 1) MSE=1117449.143\n",
      "ARIMA(2, 0, 0) MSE=1499842.055\n",
      "ARIMA(2, 1, 0) MSE=1326084.457\n",
      "ARIMA(2, 1, 1) MSE=1195582.248\n",
      "Best ARIMA(1, 1, 1) MSE=1117449.143\n",
      "77044\n",
      "ARIMA(0, 0, 0) MSE=575405846.947\n",
      "ARIMA(0, 0, 1) MSE=147233969.023\n",
      "ARIMA(0, 1, 0) MSE=720624.481\n",
      "ARIMA(0, 1, 1) MSE=258677.186\n",
      "ARIMA(1, 0, 0) MSE=945797.602\n",
      "ARIMA(1, 1, 0) MSE=167929.516\n",
      "ARIMA(1, 1, 1) MSE=130766.085\n",
      "ARIMA(2, 0, 1) MSE=134553.173\n",
      "ARIMA(2, 1, 0) MSE=154335.132\n",
      "ARIMA(2, 1, 1) MSE=145474.419\n",
      "Best ARIMA(1, 1, 1) MSE=130766.085\n",
      "77060\n",
      "ARIMA(0, 0, 0) MSE=248117913.382\n",
      "ARIMA(0, 0, 1) MSE=63904666.596\n",
      "ARIMA(0, 1, 0) MSE=592116.359\n",
      "ARIMA(0, 1, 1) MSE=239055.590\n",
      "ARIMA(1, 0, 0) MSE=716360.823\n",
      "ARIMA(1, 1, 0) MSE=193304.499\n",
      "ARIMA(1, 1, 1) MSE=158390.272\n",
      "ARIMA(2, 0, 0) MSE=195013.421\n",
      "ARIMA(2, 0, 1) MSE=161225.274\n",
      "ARIMA(2, 1, 0) MSE=181876.859\n",
      "ARIMA(2, 1, 1) MSE=162591.462\n",
      "Best ARIMA(1, 1, 1) MSE=158390.272\n",
      "77338\n",
      "ARIMA(0, 0, 0) MSE=384324172.478\n",
      "ARIMA(0, 0, 1) MSE=98091204.176\n",
      "ARIMA(0, 1, 0) MSE=672960.746\n",
      "ARIMA(0, 1, 1) MSE=212566.583\n",
      "ARIMA(1, 0, 0) MSE=812984.337\n",
      "ARIMA(1, 1, 0) MSE=98827.816\n",
      "ARIMA(1, 1, 1) MSE=80621.966\n",
      "ARIMA(2, 0, 1) MSE=81652.704\n",
      "ARIMA(2, 1, 0) MSE=91981.832\n",
      "ARIMA(2, 1, 1) MSE=86211.430\n",
      "Best ARIMA(1, 1, 1) MSE=80621.966\n",
      "77096\n",
      "ARIMA(0, 0, 0) MSE=6147861432.573\n",
      "ARIMA(0, 0, 1) MSE=1542411779.453\n",
      "ARIMA(0, 1, 0) MSE=6568033.834\n",
      "ARIMA(0, 1, 1) MSE=2135400.491\n",
      "ARIMA(1, 0, 0) MSE=7210752.964\n",
      "ARIMA(1, 1, 0) MSE=966610.357\n",
      "ARIMA(2, 0, 0) MSE=1011082.041\n",
      "ARIMA(2, 1, 0) MSE=837290.648\n",
      "ARIMA(2, 1, 1) MSE=698440.241\n",
      "Best ARIMA(2, 1, 1) MSE=698440.241\n",
      "77065\n",
      "ARIMA(0, 0, 0) MSE=776124032.068\n",
      "ARIMA(0, 0, 1) MSE=197136769.155\n",
      "ARIMA(0, 1, 0) MSE=479461.631\n",
      "ARIMA(0, 1, 1) MSE=165985.996\n",
      "ARIMA(1, 0, 0) MSE=681624.551\n",
      "ARIMA(1, 1, 0) MSE=110607.111\n",
      "ARIMA(1, 1, 1) MSE=93702.633\n",
      "ARIMA(2, 0, 0) MSE=112459.705\n",
      "ARIMA(2, 1, 0) MSE=109279.987\n",
      "ARIMA(2, 1, 1) MSE=98304.342\n",
      "Best ARIMA(1, 1, 1) MSE=93702.633\n",
      "77035\n",
      "ARIMA(0, 0, 0) MSE=4291232226.709\n",
      "ARIMA(0, 0, 1) MSE=1082249493.143\n",
      "ARIMA(0, 1, 0) MSE=3368369.508\n",
      "ARIMA(0, 1, 1) MSE=1054071.016\n",
      "ARIMA(1, 0, 0) MSE=4037810.934\n",
      "ARIMA(1, 1, 0) MSE=866293.431\n",
      "ARIMA(1, 1, 1) MSE=519504.456\n",
      "ARIMA(2, 0, 0) MSE=896542.959\n",
      "ARIMA(2, 1, 0) MSE=697177.063\n",
      "ARIMA(2, 1, 1) MSE=518726.440\n",
      "Best ARIMA(2, 1, 1) MSE=518726.440\n",
      "77054\n",
      "ARIMA(0, 0, 0) MSE=1906380306.294\n",
      "ARIMA(0, 1, 0) MSE=3633896.390\n",
      "ARIMA(0, 1, 1) MSE=1272328.133\n",
      "ARIMA(1, 1, 0) MSE=1367610.899\n",
      "ARIMA(1, 1, 1) MSE=805720.268\n",
      "ARIMA(2, 1, 0) MSE=1097029.256\n",
      "ARIMA(2, 1, 1) MSE=809415.497\n",
      "Best ARIMA(1, 1, 1) MSE=805720.268\n",
      "77092\n",
      "ARIMA(0, 0, 0) MSE=2989719325.102\n",
      "ARIMA(0, 0, 1) MSE=761966766.887\n",
      "ARIMA(0, 1, 0) MSE=2145737.781\n",
      "ARIMA(0, 1, 1) MSE=665634.817\n",
      "ARIMA(1, 0, 0) MSE=3016134.611\n",
      "ARIMA(1, 1, 0) MSE=414661.347\n",
      "ARIMA(1, 1, 1) MSE=258315.425\n",
      "ARIMA(2, 0, 0) MSE=424518.964\n",
      "ARIMA(2, 1, 0) MSE=359400.736\n",
      "ARIMA(2, 1, 1) MSE=260834.634\n",
      "Best ARIMA(1, 1, 1) MSE=258315.425\n",
      "77074\n",
      "ARIMA(0, 0, 0) MSE=834032490.428\n",
      "ARIMA(0, 0, 1) MSE=213917831.405\n",
      "ARIMA(0, 1, 0) MSE=1071140.593\n",
      "ARIMA(0, 1, 1) MSE=432991.949\n",
      "ARIMA(1, 0, 0) MSE=1410966.388\n",
      "ARIMA(1, 1, 0) MSE=390289.824\n",
      "ARIMA(1, 1, 1) MSE=292810.391\n",
      "ARIMA(2, 0, 0) MSE=396856.207\n",
      "ARIMA(2, 1, 0) MSE=347768.758\n",
      "ARIMA(2, 1, 1) MSE=297584.113\n",
      "Best ARIMA(1, 1, 1) MSE=292810.391\n",
      "77006\n",
      "ARIMA(0, 0, 0) MSE=7302363142.080\n",
      "ARIMA(0, 0, 1) MSE=1847878949.349\n",
      "ARIMA(0, 1, 0) MSE=5460648.002\n",
      "ARIMA(0, 1, 1) MSE=1830063.446\n",
      "ARIMA(1, 0, 0) MSE=6983638.606\n",
      "ARIMA(1, 1, 0) MSE=1247082.493\n",
      "ARIMA(1, 1, 1) MSE=966106.244\n",
      "ARIMA(2, 0, 0) MSE=1342315.031\n",
      "ARIMA(2, 1, 0) MSE=1300097.725\n",
      "ARIMA(2, 1, 1) MSE=1077044.728\n",
      "Best ARIMA(1, 1, 1) MSE=966106.244\n",
      "77056\n",
      "ARIMA(0, 0, 0) MSE=13379202612.120\n",
      "ARIMA(0, 1, 0) MSE=11255859.545\n",
      "ARIMA(0, 1, 1) MSE=4140490.461\n",
      "ARIMA(1, 1, 0) MSE=3845676.770\n",
      "ARIMA(2, 1, 0) MSE=3598557.150\n",
      "Best ARIMA(2, 1, 0) MSE=3598557.150\n",
      "77520\n",
      "ARIMA(0, 0, 0) MSE=278254162.822\n",
      "ARIMA(0, 0, 1) MSE=72110584.765\n",
      "ARIMA(0, 1, 0) MSE=694337.268\n",
      "ARIMA(0, 1, 1) MSE=280669.035\n",
      "ARIMA(1, 0, 0) MSE=815824.016\n",
      "ARIMA(1, 1, 0) MSE=262888.870\n",
      "ARIMA(1, 1, 1) MSE=198613.920\n",
      "ARIMA(2, 0, 0) MSE=266911.890\n",
      "ARIMA(2, 1, 0) MSE=234359.533\n",
      "ARIMA(2, 1, 1) MSE=201286.519\n",
      "Best ARIMA(1, 1, 1) MSE=198613.920\n",
      "77377\n",
      "ARIMA(0, 0, 0) MSE=1980536753.997\n",
      "ARIMA(0, 0, 1) MSE=500680511.923\n",
      "ARIMA(0, 1, 0) MSE=1450144.280\n",
      "ARIMA(0, 1, 1) MSE=465800.962\n",
      "ARIMA(1, 0, 0) MSE=1828688.503\n",
      "ARIMA(1, 1, 0) MSE=288191.868\n",
      "ARIMA(1, 1, 1) MSE=201061.554\n",
      "ARIMA(2, 0, 0) MSE=295442.972\n",
      "ARIMA(2, 1, 0) MSE=258541.187\n",
      "ARIMA(2, 1, 1) MSE=213850.267\n",
      "Best ARIMA(1, 1, 1) MSE=201061.554\n",
      "77571\n"
     ]
    },
    {
     "name": "stdout",
     "output_type": "stream",
     "text": [
      "ARIMA(0, 0, 0) MSE=773061957.406\n",
      "ARIMA(0, 0, 1) MSE=197459413.808\n",
      "ARIMA(0, 1, 0) MSE=640964.698\n",
      "ARIMA(0, 1, 1) MSE=230108.240\n",
      "ARIMA(1, 0, 0) MSE=871879.236\n",
      "ARIMA(1, 1, 0) MSE=101025.807\n",
      "ARIMA(1, 1, 1) MSE=83101.631\n",
      "ARIMA(2, 1, 0) MSE=87582.928\n",
      "ARIMA(2, 1, 1) MSE=85506.789\n",
      "Best ARIMA(1, 1, 1) MSE=83101.631\n",
      "77073\n",
      "ARIMA(0, 0, 0) MSE=348710922.044\n",
      "ARIMA(0, 0, 1) MSE=88500228.458\n",
      "ARIMA(0, 1, 0) MSE=633030.858\n",
      "ARIMA(0, 1, 1) MSE=236092.191\n",
      "ARIMA(1, 0, 0) MSE=745247.084\n",
      "ARIMA(1, 1, 0) MSE=75690.756\n",
      "ARIMA(1, 1, 1) MSE=72467.915\n",
      "ARIMA(2, 0, 1) MSE=72779.192\n",
      "ARIMA(2, 1, 0) MSE=76635.842\n",
      "ARIMA(2, 1, 1) MSE=77823.696\n",
      "Best ARIMA(1, 1, 1) MSE=72467.915\n",
      "77079\n",
      "ARIMA(0, 0, 0) MSE=6490146074.468\n",
      "ARIMA(0, 0, 1) MSE=1619395979.362\n",
      "ARIMA(0, 1, 0) MSE=5253387.862\n",
      "ARIMA(0, 1, 1) MSE=1551898.545\n",
      "ARIMA(1, 0, 0) MSE=4380855.130\n",
      "ARIMA(1, 1, 0) MSE=829762.299\n",
      "ARIMA(2, 1, 1) MSE=680613.724\n",
      "Best ARIMA(2, 1, 1) MSE=680613.724\n",
      "77025\n",
      "ARIMA(0, 0, 0) MSE=5139325526.630\n",
      "ARIMA(0, 0, 1) MSE=1282556688.767\n",
      "ARIMA(0, 1, 0) MSE=10389755.342\n",
      "ARIMA(0, 1, 1) MSE=3214557.932\n",
      "ARIMA(1, 0, 0) MSE=8803790.370\n",
      "ARIMA(1, 1, 0) MSE=2160875.754\n",
      "ARIMA(2, 1, 0) MSE=1913914.361\n",
      "ARIMA(2, 1, 1) MSE=1558162.754\n",
      "Best ARIMA(2, 1, 1) MSE=1558162.754\n",
      "77034\n",
      "ARIMA(0, 0, 0) MSE=480303262.956\n",
      "ARIMA(0, 0, 1) MSE=122877722.644\n",
      "ARIMA(0, 1, 0) MSE=601216.067\n",
      "ARIMA(0, 1, 1) MSE=214881.983\n",
      "ARIMA(1, 0, 0) MSE=767297.124\n",
      "ARIMA(1, 1, 0) MSE=94776.933\n",
      "ARIMA(1, 1, 1) MSE=82379.170\n",
      "ARIMA(2, 0, 0) MSE=95370.338\n",
      "ARIMA(2, 1, 0) MSE=87521.212\n",
      "ARIMA(2, 1, 1) MSE=85824.319\n",
      "Best ARIMA(1, 1, 1) MSE=82379.170\n",
      "77093\n",
      "ARIMA(0, 0, 0) MSE=173068982.597\n",
      "ARIMA(0, 0, 1) MSE=45031702.722\n",
      "ARIMA(0, 1, 0) MSE=612696.115\n",
      "ARIMA(0, 1, 1) MSE=260970.808\n",
      "ARIMA(1, 0, 0) MSE=709114.766\n",
      "ARIMA(1, 1, 0) MSE=231473.447\n",
      "ARIMA(1, 1, 1) MSE=205113.125\n",
      "ARIMA(2, 0, 0) MSE=234038.612\n",
      "ARIMA(2, 1, 0) MSE=223484.102\n",
      "ARIMA(2, 1, 1) MSE=203858.190\n",
      "Best ARIMA(2, 1, 1) MSE=203858.190\n",
      "77019\n",
      "ARIMA(0, 0, 0) MSE=8121226866.771\n",
      "ARIMA(0, 0, 1) MSE=2053574316.585\n",
      "ARIMA(0, 1, 0) MSE=10127441.814\n",
      "ARIMA(0, 1, 1) MSE=3246585.152\n",
      "ARIMA(1, 0, 0) MSE=11730595.139\n",
      "ARIMA(1, 1, 0) MSE=2856386.268\n",
      "ARIMA(1, 1, 1) MSE=1888051.855\n",
      "ARIMA(2, 1, 0) MSE=2623521.275\n",
      "Best ARIMA(1, 1, 1) MSE=1888051.855\n",
      "77075\n",
      "ARIMA(0, 0, 0) MSE=574437733.690\n",
      "ARIMA(0, 0, 1) MSE=147370690.185\n",
      "ARIMA(0, 1, 0) MSE=988255.996\n",
      "ARIMA(0, 1, 1) MSE=364661.138\n",
      "ARIMA(1, 0, 0) MSE=1197745.519\n",
      "ARIMA(1, 1, 0) MSE=223796.500\n",
      "ARIMA(1, 1, 1) MSE=166506.915\n",
      "ARIMA(2, 0, 0) MSE=225564.387\n",
      "ARIMA(2, 1, 0) MSE=192647.548\n",
      "ARIMA(2, 1, 1) MSE=170171.452\n",
      "Best ARIMA(1, 1, 1) MSE=166506.915\n",
      "77598\n",
      "ARIMA(0, 0, 0) MSE=831266836.585\n",
      "ARIMA(0, 0, 1) MSE=212294999.584\n",
      "ARIMA(0, 1, 0) MSE=873813.421\n",
      "ARIMA(0, 1, 1) MSE=304694.348\n",
      "ARIMA(1, 0, 0) MSE=1102121.204\n",
      "ARIMA(1, 1, 0) MSE=220346.983\n",
      "ARIMA(1, 1, 1) MSE=156535.362\n",
      "ARIMA(2, 0, 0) MSE=224220.352\n",
      "ARIMA(2, 1, 0) MSE=192256.396\n",
      "ARIMA(2, 1, 1) MSE=164396.618\n",
      "Best ARIMA(1, 1, 1) MSE=156535.362\n",
      "77536\n",
      "ARIMA(0, 0, 0) MSE=920924776.701\n",
      "ARIMA(0, 0, 1) MSE=234763599.045\n",
      "ARIMA(0, 1, 0) MSE=656228.187\n",
      "ARIMA(0, 1, 1) MSE=226854.501\n",
      "ARIMA(1, 0, 0) MSE=920454.994\n",
      "ARIMA(1, 1, 0) MSE=146745.353\n",
      "ARIMA(1, 1, 1) MSE=113251.684\n",
      "ARIMA(2, 0, 0) MSE=150127.418\n",
      "ARIMA(2, 1, 0) MSE=131827.788\n",
      "ARIMA(2, 1, 1) MSE=117367.909\n",
      "Best ARIMA(1, 1, 1) MSE=113251.684\n",
      "77502\n",
      "ARIMA(0, 0, 0) MSE=475212461.712\n",
      "ARIMA(0, 0, 1) MSE=121903247.700\n",
      "ARIMA(0, 1, 0) MSE=434808.788\n",
      "ARIMA(0, 1, 1) MSE=166615.699\n",
      "ARIMA(1, 0, 0) MSE=612428.264\n",
      "ARIMA(1, 1, 0) MSE=88723.604\n",
      "ARIMA(1, 1, 1) MSE=79894.045\n",
      "ARIMA(2, 0, 0) MSE=90465.732\n",
      "ARIMA(2, 1, 0) MSE=82918.498\n",
      "ARIMA(2, 1, 1) MSE=80497.944\n",
      "Best ARIMA(1, 1, 1) MSE=79894.045\n",
      "77018\n",
      "ARIMA(0, 0, 0) MSE=7638478520.566\n",
      "ARIMA(0, 0, 1) MSE=1936778058.994\n",
      "ARIMA(0, 1, 0) MSE=6980568.639\n",
      "ARIMA(0, 1, 1) MSE=2116575.177\n",
      "ARIMA(1, 0, 0) MSE=8791978.460\n",
      "ARIMA(1, 1, 0) MSE=1776431.836\n",
      "ARIMA(2, 0, 0) MSE=1892337.623\n",
      "ARIMA(2, 1, 0) MSE=1233892.230\n",
      "ARIMA(2, 1, 1) MSE=938859.533\n",
      "Best ARIMA(2, 1, 1) MSE=938859.533\n",
      "77532\n",
      "ARIMA(0, 0, 0) MSE=998485859.243\n",
      "ARIMA(0, 0, 1) MSE=254066818.558\n",
      "ARIMA(0, 1, 0) MSE=757203.309\n",
      "ARIMA(0, 1, 1) MSE=268413.509\n",
      "ARIMA(1, 0, 0) MSE=1017088.929\n",
      "ARIMA(1, 1, 0) MSE=160763.581\n",
      "ARIMA(1, 1, 1) MSE=127035.916\n",
      "ARIMA(2, 0, 0) MSE=166031.860\n",
      "ARIMA(2, 1, 0) MSE=151903.301\n",
      "ARIMA(2, 1, 1) MSE=132304.661\n",
      "Best ARIMA(1, 1, 1) MSE=127035.916\n",
      "77041\n",
      "ARIMA(0, 0, 0) MSE=759168585.112\n",
      "ARIMA(0, 1, 0) MSE=759983.832\n",
      "ARIMA(0, 1, 1) MSE=256989.740\n",
      "ARIMA(1, 1, 0) MSE=162757.841\n",
      "ARIMA(1, 1, 1) MSE=126251.147\n",
      "ARIMA(2, 1, 0) MSE=154650.151\n",
      "ARIMA(2, 1, 1) MSE=132894.394\n",
      "Best ARIMA(1, 1, 1) MSE=126251.147\n",
      "77014\n",
      "ARIMA(0, 0, 0) MSE=350157860.041\n",
      "ARIMA(0, 0, 1) MSE=89040666.985\n",
      "ARIMA(0, 1, 0) MSE=739304.499\n",
      "ARIMA(0, 1, 1) MSE=250033.537\n",
      "ARIMA(1, 0, 0) MSE=859265.203\n",
      "ARIMA(1, 1, 0) MSE=100083.817\n",
      "ARIMA(1, 1, 1) MSE=84842.633\n",
      "ARIMA(2, 0, 1) MSE=85326.822\n",
      "ARIMA(2, 1, 0) MSE=93058.314\n",
      "ARIMA(2, 1, 1) MSE=85036.712\n",
      "Best ARIMA(1, 1, 1) MSE=84842.633\n",
      "77027\n",
      "ARIMA(0, 0, 0) MSE=14311881948.292\n",
      "ARIMA(0, 1, 0) MSE=12374820.727\n",
      "ARIMA(0, 1, 1) MSE=3801983.839\n",
      "ARIMA(1, 1, 0) MSE=2675806.701\n",
      "ARIMA(2, 1, 0) MSE=2393043.159\n",
      "Best ARIMA(2, 1, 0) MSE=2393043.159\n",
      "77506\n",
      "ARIMA(0, 0, 0) MSE=226461284.298\n",
      "ARIMA(0, 0, 1) MSE=58812181.070\n",
      "ARIMA(0, 1, 0) MSE=518235.183\n",
      "ARIMA(0, 1, 1) MSE=203076.930\n",
      "ARIMA(1, 0, 0) MSE=636246.027\n",
      "ARIMA(1, 1, 0) MSE=197389.908\n",
      "ARIMA(1, 1, 1) MSE=154602.981\n",
      "ARIMA(2, 0, 0) MSE=200789.242\n",
      "ARIMA(2, 1, 0) MSE=185190.344\n",
      "ARIMA(2, 1, 1) MSE=154150.954\n",
      "Best ARIMA(2, 1, 1) MSE=154150.954\n",
      "77493\n",
      "ARIMA(0, 0, 0) MSE=1534421890.494\n",
      "ARIMA(0, 0, 1) MSE=389006927.924\n",
      "ARIMA(0, 1, 0) MSE=983671.452\n",
      "ARIMA(0, 1, 1) MSE=304300.261\n",
      "ARIMA(1, 0, 0) MSE=1348972.006\n",
      "ARIMA(1, 1, 0) MSE=151963.269\n",
      "ARIMA(1, 1, 1) MSE=122227.582\n",
      "ARIMA(2, 0, 0) MSE=157804.008\n",
      "ARIMA(2, 1, 0) MSE=156140.497\n",
      "ARIMA(2, 1, 1) MSE=130947.103\n",
      "Best ARIMA(1, 1, 1) MSE=122227.582\n",
      "77087\n",
      "ARIMA(0, 0, 0) MSE=371255362.241\n",
      "ARIMA(0, 0, 1) MSE=96033944.754\n",
      "ARIMA(0, 1, 0) MSE=1126725.017\n",
      "ARIMA(0, 1, 1) MSE=369927.411\n",
      "ARIMA(1, 0, 0) MSE=1307076.899\n",
      "ARIMA(1, 1, 0) MSE=192927.051\n",
      "ARIMA(1, 1, 1) MSE=142404.484\n",
      "ARIMA(2, 1, 0) MSE=158167.112\n",
      "ARIMA(2, 1, 1) MSE=144528.481\n",
      "Best ARIMA(1, 1, 1) MSE=142404.484\n",
      "77021\n",
      "ARIMA(0, 0, 0) MSE=352889625.702\n",
      "ARIMA(0, 0, 1) MSE=92202813.209\n",
      "ARIMA(0, 1, 0) MSE=1247066.217\n",
      "ARIMA(0, 1, 1) MSE=471558.211\n",
      "ARIMA(1, 0, 0) MSE=1463689.659\n",
      "ARIMA(1, 1, 0) MSE=457436.549\n",
      "ARIMA(1, 1, 1) MSE=345669.864\n",
      "ARIMA(2, 0, 0) MSE=464707.969\n",
      "ARIMA(2, 1, 0) MSE=416018.258\n",
      "ARIMA(2, 1, 1) MSE=349958.386\n",
      "Best ARIMA(1, 1, 1) MSE=345669.864\n",
      "77049\n",
      "ARIMA(0, 0, 0) MSE=498457603.510\n",
      "ARIMA(0, 1, 0) MSE=850644.581\n",
      "ARIMA(0, 1, 1) MSE=291714.503\n",
      "ARIMA(1, 1, 0) MSE=234319.419\n",
      "ARIMA(1, 1, 1) MSE=156619.641\n",
      "ARIMA(2, 1, 0) MSE=195167.177\n",
      "ARIMA(2, 1, 1) MSE=157513.578\n",
      "Best ARIMA(1, 1, 1) MSE=156619.641\n",
      "77586\n",
      "ARIMA(0, 0, 0) MSE=1833674318.311\n",
      "ARIMA(0, 0, 1) MSE=466148697.143\n",
      "ARIMA(0, 1, 0) MSE=1846130.884\n",
      "ARIMA(0, 1, 1) MSE=593523.306\n",
      "ARIMA(1, 0, 0) MSE=2295091.255\n",
      "ARIMA(1, 1, 0) MSE=372309.020\n",
      "ARIMA(1, 1, 1) MSE=276043.907\n",
      "ARIMA(2, 0, 0) MSE=382229.630\n",
      "ARIMA(2, 1, 0) MSE=348566.408\n",
      "ARIMA(2, 1, 1) MSE=288162.041\n",
      "Best ARIMA(1, 1, 1) MSE=276043.907\n",
      "77047\n",
      "ARIMA(0, 0, 0) MSE=439768969.314\n",
      "ARIMA(0, 0, 1) MSE=112265965.370\n",
      "ARIMA(0, 1, 0) MSE=643822.030\n",
      "ARIMA(0, 1, 1) MSE=220007.459\n",
      "ARIMA(1, 0, 0) MSE=801732.747\n",
      "ARIMA(1, 1, 0) MSE=130676.755\n",
      "ARIMA(1, 1, 1) MSE=96921.808\n",
      "ARIMA(2, 0, 1) MSE=98526.465\n",
      "ARIMA(2, 1, 0) MSE=107695.500\n",
      "ARIMA(2, 1, 1) MSE=99111.748\n",
      "Best ARIMA(1, 1, 1) MSE=96921.808\n",
      "77091\n",
      "ARIMA(0, 0, 0) MSE=282083286.059\n",
      "ARIMA(0, 0, 1) MSE=72932798.596\n",
      "ARIMA(0, 1, 0) MSE=1069585.316\n",
      "ARIMA(0, 1, 1) MSE=378775.431\n",
      "ARIMA(1, 0, 0) MSE=1206703.541\n",
      "ARIMA(1, 1, 0) MSE=332006.595\n",
      "ARIMA(1, 1, 1) MSE=233683.551\n",
      "ARIMA(2, 0, 0) MSE=334300.960\n",
      "ARIMA(2, 0, 1) MSE=236654.305\n",
      "ARIMA(2, 1, 0) MSE=283299.182\n",
      "ARIMA(2, 1, 1) MSE=246441.492\n",
      "Best ARIMA(1, 1, 1) MSE=233683.551\n",
      "77017\n",
      "ARIMA(0, 0, 0) MSE=263159598.249\n",
      "ARIMA(0, 0, 1) MSE=67972216.252\n",
      "ARIMA(0, 1, 0) MSE=633026.526\n",
      "ARIMA(0, 1, 1) MSE=223891.945\n",
      "ARIMA(1, 0, 0) MSE=763155.692\n",
      "ARIMA(1, 1, 0) MSE=148585.806\n",
      "ARIMA(1, 1, 1) MSE=125063.077\n",
      "ARIMA(2, 0, 0) MSE=149935.275\n",
      "ARIMA(2, 1, 0) MSE=135363.425\n",
      "ARIMA(2, 1, 1) MSE=126113.458\n",
      "Best ARIMA(1, 1, 1) MSE=125063.077\n",
      "77067\n",
      "ARIMA(0, 0, 0) MSE=425493511.749\n",
      "ARIMA(0, 0, 1) MSE=108203028.320\n",
      "ARIMA(0, 1, 0) MSE=634073.283\n",
      "ARIMA(0, 1, 1) MSE=221177.127\n"
     ]
    },
    {
     "name": "stdout",
     "output_type": "stream",
     "text": [
      "ARIMA(1, 0, 0) MSE=772088.480\n",
      "ARIMA(1, 1, 0) MSE=117286.961\n",
      "ARIMA(1, 1, 1) MSE=92659.638\n",
      "ARIMA(2, 0, 1) MSE=94126.174\n",
      "ARIMA(2, 1, 0) MSE=103991.314\n",
      "ARIMA(2, 1, 1) MSE=93847.172\n",
      "Best ARIMA(1, 1, 1) MSE=92659.638\n",
      "77066\n",
      "ARIMA(0, 0, 0) MSE=397724474.256\n",
      "ARIMA(0, 0, 1) MSE=101571581.425\n",
      "ARIMA(0, 1, 0) MSE=791724.214\n",
      "ARIMA(0, 1, 1) MSE=285155.191\n",
      "ARIMA(1, 0, 0) MSE=935361.729\n",
      "ARIMA(1, 1, 0) MSE=184359.218\n",
      "ARIMA(1, 1, 1) MSE=133836.612\n",
      "ARIMA(2, 0, 0) MSE=186569.730\n",
      "ARIMA(2, 1, 0) MSE=163826.771\n",
      "ARIMA(2, 1, 1) MSE=136369.879\n",
      "Best ARIMA(1, 1, 1) MSE=133836.612\n",
      "77005\n",
      "ARIMA(0, 0, 0) MSE=26600412366.257\n",
      "ARIMA(0, 0, 1) MSE=6762995190.545\n",
      "ARIMA(0, 1, 0) MSE=14570532.197\n",
      "ARIMA(0, 1, 1) MSE=4489768.472\n",
      "ARIMA(1, 0, 0) MSE=21208462.621\n",
      "ARIMA(1, 1, 0) MSE=2544956.154\n",
      "ARIMA(2, 0, 0) MSE=2748318.069\n",
      "ARIMA(2, 1, 0) MSE=2778202.193\n",
      "ARIMA(2, 1, 1) MSE=2190975.894\n",
      "Best ARIMA(2, 1, 1) MSE=2190975.894\n",
      "77530\n",
      "ARIMA(0, 0, 0) MSE=483993532.243\n",
      "ARIMA(0, 0, 1) MSE=124716390.861\n",
      "ARIMA(0, 1, 0) MSE=638956.032\n",
      "ARIMA(0, 1, 1) MSE=233967.012\n",
      "ARIMA(1, 0, 0) MSE=847191.295\n",
      "ARIMA(1, 1, 0) MSE=104083.986\n",
      "ARIMA(1, 1, 1) MSE=89275.461\n",
      "ARIMA(2, 1, 0) MSE=93017.319\n",
      "ARIMA(2, 1, 1) MSE=91429.533\n",
      "Best ARIMA(1, 1, 1) MSE=89275.461\n",
      "77071\n",
      "ARIMA(0, 0, 0) MSE=493507670.541\n",
      "ARIMA(0, 0, 1) MSE=126709794.802\n",
      "ARIMA(0, 1, 0) MSE=1038830.420\n",
      "ARIMA(0, 1, 1) MSE=332857.560\n",
      "ARIMA(1, 0, 0) MSE=1234027.020\n",
      "ARIMA(1, 1, 0) MSE=239174.568\n",
      "ARIMA(1, 1, 1) MSE=160825.471\n",
      "ARIMA(2, 0, 0) MSE=240686.295\n",
      "ARIMA(2, 1, 0) MSE=194951.944\n",
      "ARIMA(2, 1, 1) MSE=164451.419\n",
      "Best ARIMA(1, 1, 1) MSE=160825.471\n",
      "77016\n",
      "ARIMA(0, 0, 0) MSE=187450587.873\n",
      "ARIMA(0, 0, 1) MSE=49083303.216\n",
      "ARIMA(0, 1, 0) MSE=722805.239\n",
      "ARIMA(0, 1, 1) MSE=333188.775\n",
      "ARIMA(1, 0, 0) MSE=840082.490\n",
      "ARIMA(1, 1, 0) MSE=320169.950\n",
      "ARIMA(1, 1, 1) MSE=270118.015\n",
      "ARIMA(2, 0, 0) MSE=324798.487\n",
      "ARIMA(2, 1, 0) MSE=298901.462\n",
      "ARIMA(2, 1, 1) MSE=273973.330\n",
      "Best ARIMA(1, 1, 1) MSE=270118.015\n",
      "77062\n",
      "ARIMA(0, 0, 0) MSE=1398970092.992\n",
      "ARIMA(0, 0, 1) MSE=355435236.590\n",
      "ARIMA(0, 1, 0) MSE=1071549.191\n",
      "ARIMA(0, 1, 1) MSE=360324.108\n",
      "ARIMA(1, 0, 0) MSE=1398653.898\n",
      "ARIMA(1, 1, 0) MSE=295935.389\n",
      "ARIMA(1, 1, 1) MSE=199517.996\n",
      "ARIMA(2, 0, 0) MSE=304017.439\n",
      "ARIMA(2, 1, 0) MSE=238476.990\n",
      "ARIMA(2, 1, 1) MSE=207260.214\n",
      "Best ARIMA(1, 1, 1) MSE=199517.996\n",
      "77045\n",
      "ARIMA(0, 0, 0) MSE=245128370.334\n",
      "ARIMA(0, 0, 1) MSE=63315369.774\n",
      "ARIMA(0, 1, 0) MSE=563245.177\n",
      "ARIMA(0, 1, 1) MSE=202180.457\n",
      "ARIMA(1, 0, 0) MSE=683617.923\n",
      "ARIMA(1, 1, 0) MSE=188639.836\n",
      "ARIMA(1, 1, 1) MSE=140025.980\n",
      "ARIMA(2, 0, 0) MSE=190298.207\n",
      "ARIMA(2, 1, 0) MSE=163536.101\n",
      "ARIMA(2, 1, 1) MSE=141771.617\n",
      "Best ARIMA(1, 1, 1) MSE=140025.980\n",
      "77058\n",
      "ARIMA(0, 0, 0) MSE=1140988007.055\n",
      "ARIMA(0, 0, 1) MSE=291372423.474\n",
      "ARIMA(0, 1, 0) MSE=1611390.080\n",
      "ARIMA(0, 1, 1) MSE=606370.246\n",
      "ARIMA(1, 0, 0) MSE=1951285.133\n",
      "ARIMA(1, 1, 0) MSE=698668.701\n",
      "ARIMA(2, 0, 0) MSE=716867.496\n",
      "ARIMA(2, 1, 0) MSE=528958.392\n",
      "ARIMA(2, 1, 1) MSE=412344.454\n",
      "Best ARIMA(2, 1, 1) MSE=412344.454\n",
      "77098\n",
      "ARIMA(0, 0, 0) MSE=8178542372.182\n",
      "ARIMA(0, 1, 0) MSE=16380388.080\n",
      "ARIMA(0, 1, 1) MSE=5248214.296\n",
      "ARIMA(1, 1, 0) MSE=4089172.811\n",
      "ARIMA(1, 1, 1) MSE=2565948.264\n",
      "ARIMA(2, 1, 0) MSE=3518063.138\n",
      "Best ARIMA(1, 1, 1) MSE=2565948.264\n",
      "77043\n",
      "ARIMA(0, 0, 0) MSE=5037614230.940\n",
      "ARIMA(0, 0, 1) MSE=1280452694.510\n",
      "ARIMA(0, 1, 0) MSE=4606937.228\n",
      "ARIMA(0, 1, 1) MSE=1603210.406\n",
      "ARIMA(1, 0, 0) MSE=5927832.608\n",
      "ARIMA(1, 1, 0) MSE=865922.785\n",
      "ARIMA(1, 1, 1) MSE=629607.273\n",
      "ARIMA(2, 1, 0) MSE=697889.239\n",
      "ARIMA(2, 1, 1) MSE=657936.614\n",
      "Best ARIMA(1, 1, 1) MSE=629607.273\n",
      "77033\n",
      "ARIMA(0, 0, 0) MSE=145245785.293\n",
      "ARIMA(0, 0, 1) MSE=37416647.136\n",
      "ARIMA(0, 1, 0) MSE=802015.701\n",
      "ARIMA(0, 1, 1) MSE=359827.213\n",
      "ARIMA(1, 0, 0) MSE=855205.990\n",
      "ARIMA(1, 1, 0) MSE=482741.496\n",
      "ARIMA(1, 1, 1) MSE=369184.802\n",
      "ARIMA(2, 0, 0) MSE=488470.416\n",
      "ARIMA(2, 0, 1) MSE=377852.726\n",
      "ARIMA(2, 1, 0) MSE=464318.009\n",
      "ARIMA(2, 1, 1) MSE=378934.977\n",
      "Best ARIMA(0, 1, 1) MSE=359827.213\n",
      "77345\n",
      "ARIMA(0, 0, 0) MSE=2712852454.914\n",
      "ARIMA(0, 0, 1) MSE=684436390.794\n",
      "ARIMA(0, 1, 0) MSE=1586884.156\n",
      "ARIMA(0, 1, 1) MSE=647015.217\n",
      "ARIMA(1, 0, 0) MSE=2020206.196\n",
      "ARIMA(1, 1, 0) MSE=473582.802\n",
      "ARIMA(1, 1, 1) MSE=376093.415\n",
      "ARIMA(2, 0, 0) MSE=490178.493\n",
      "ARIMA(2, 1, 0) MSE=409736.107\n",
      "ARIMA(2, 1, 1) MSE=393344.991\n",
      "Best ARIMA(1, 1, 1) MSE=376093.415\n",
      "77061\n",
      "ARIMA(0, 0, 0) MSE=608713077.626\n",
      "ARIMA(0, 0, 1) MSE=156108775.286\n",
      "ARIMA(0, 1, 0) MSE=1244020.808\n",
      "ARIMA(0, 1, 1) MSE=453080.302\n",
      "ARIMA(1, 0, 0) MSE=1480161.982\n",
      "ARIMA(1, 1, 0) MSE=378484.518\n",
      "ARIMA(1, 1, 1) MSE=262458.126\n",
      "ARIMA(2, 0, 0) MSE=382803.694\n",
      "ARIMA(2, 1, 0) MSE=310204.058\n",
      "ARIMA(2, 1, 1) MSE=263911.872\n",
      "Best ARIMA(1, 1, 1) MSE=262458.126\n",
      "77504\n",
      "ARIMA(0, 0, 0) MSE=736619279.195\n",
      "ARIMA(0, 0, 1) MSE=187928411.907\n",
      "ARIMA(0, 1, 0) MSE=475646.158\n",
      "ARIMA(0, 1, 1) MSE=207740.221\n",
      "ARIMA(1, 0, 0) MSE=696302.995\n",
      "ARIMA(1, 1, 0) MSE=190380.357\n",
      "ARIMA(1, 1, 1) MSE=157707.359\n",
      "ARIMA(2, 0, 0) MSE=196011.169\n",
      "ARIMA(2, 1, 0) MSE=177025.919\n",
      "ARIMA(2, 1, 1) MSE=163068.111\n",
      "Best ARIMA(1, 1, 1) MSE=157707.359\n",
      "77053\n",
      "ARIMA(0, 0, 0) MSE=322887234.832\n",
      "ARIMA(0, 0, 1) MSE=83040429.777\n",
      "ARIMA(0, 1, 0) MSE=731459.078\n",
      "ARIMA(0, 1, 1) MSE=325974.455\n",
      "ARIMA(1, 0, 0) MSE=869084.326\n",
      "ARIMA(1, 1, 0) MSE=379369.218\n",
      "ARIMA(1, 1, 1) MSE=280978.304\n",
      "ARIMA(2, 0, 0) MSE=385480.588\n",
      "ARIMA(2, 1, 0) MSE=336231.936\n",
      "ARIMA(2, 1, 1) MSE=284115.324\n",
      "Best ARIMA(1, 1, 1) MSE=280978.304\n",
      "77020\n",
      "ARIMA(0, 0, 0) MSE=173084635.305\n",
      "ARIMA(0, 0, 1) MSE=45681500.462\n",
      "ARIMA(0, 1, 0) MSE=1300612.706\n",
      "ARIMA(0, 1, 1) MSE=641928.460\n",
      "ARIMA(1, 0, 0) MSE=1430692.382\n",
      "ARIMA(1, 1, 0) MSE=893817.118\n",
      "ARIMA(1, 1, 1) MSE=682182.391\n",
      "ARIMA(2, 0, 0) MSE=911823.167\n",
      "ARIMA(2, 0, 1) MSE=696731.109\n",
      "ARIMA(2, 1, 0) MSE=821986.781\n",
      "ARIMA(2, 1, 1) MSE=703104.119\n",
      "Best ARIMA(0, 1, 1) MSE=641928.460\n",
      "77503\n",
      "ARIMA(0, 0, 0) MSE=414881888.334\n",
      "ARIMA(0, 0, 1) MSE=106235357.231\n",
      "ARIMA(0, 1, 0) MSE=438856.389\n",
      "ARIMA(0, 1, 1) MSE=172462.976\n",
      "ARIMA(1, 0, 0) MSE=575790.583\n",
      "ARIMA(1, 1, 0) MSE=106089.053\n",
      "ARIMA(1, 1, 1) MSE=100251.970\n",
      "ARIMA(2, 1, 0) MSE=102606.727\n",
      "ARIMA(2, 1, 1) MSE=101337.599\n",
      "Best ARIMA(1, 1, 1) MSE=100251.970\n",
      "77038\n",
      "ARIMA(0, 0, 0) MSE=349656311.415\n",
      "ARIMA(0, 0, 1) MSE=89233417.240\n",
      "ARIMA(0, 1, 0) MSE=514255.965\n",
      "ARIMA(0, 1, 1) MSE=186921.221\n",
      "ARIMA(1, 0, 0) MSE=642192.978\n",
      "ARIMA(1, 1, 0) MSE=148870.757\n",
      "ARIMA(1, 1, 1) MSE=147537.986\n",
      "ARIMA(2, 0, 0) MSE=150025.092\n",
      "ARIMA(2, 0, 1) MSE=151243.607\n",
      "ARIMA(2, 1, 0) MSE=150314.113\n",
      "ARIMA(2, 1, 1) MSE=137026.256\n",
      "Best ARIMA(2, 1, 1) MSE=137026.256\n",
      "77505\n",
      "ARIMA(0, 0, 0) MSE=1151852808.435\n",
      "ARIMA(0, 0, 1) MSE=292421596.276\n",
      "ARIMA(0, 1, 0) MSE=1129234.503\n",
      "ARIMA(0, 1, 1) MSE=382183.242\n",
      "ARIMA(1, 0, 0) MSE=1365904.420\n",
      "ARIMA(1, 1, 0) MSE=302090.967\n",
      "ARIMA(1, 1, 1) MSE=196227.065\n",
      "ARIMA(2, 1, 0) MSE=260257.896\n",
      "ARIMA(2, 1, 1) MSE=199942.165\n",
      "Best ARIMA(1, 1, 1) MSE=196227.065\n",
      "77069\n",
      "ARIMA(0, 0, 0) MSE=1644962037.357\n",
      "ARIMA(0, 0, 1) MSE=415696652.708\n",
      "ARIMA(0, 1, 0) MSE=1512255.866\n",
      "ARIMA(0, 1, 1) MSE=557648.398\n",
      "ARIMA(1, 0, 0) MSE=1847905.341\n",
      "ARIMA(1, 1, 0) MSE=449571.016\n",
      "ARIMA(1, 1, 1) MSE=326159.729\n",
      "ARIMA(2, 0, 0) MSE=459304.316\n",
      "ARIMA(2, 1, 0) MSE=405710.463\n",
      "ARIMA(2, 1, 1) MSE=341097.922\n",
      "Best ARIMA(1, 1, 1) MSE=326159.729\n",
      "77523\n",
      "ARIMA(0, 0, 0) MSE=2350586349.576\n",
      "ARIMA(0, 0, 1) MSE=595999736.324\n",
      "ARIMA(0, 1, 0) MSE=1336163.713\n",
      "ARIMA(0, 1, 1) MSE=514080.192\n",
      "ARIMA(1, 0, 0) MSE=1845558.540\n",
      "ARIMA(1, 1, 0) MSE=373369.953\n",
      "ARIMA(1, 1, 1) MSE=277963.914\n",
      "ARIMA(2, 0, 0) MSE=384765.159\n",
      "ARIMA(2, 1, 0) MSE=309276.563\n",
      "ARIMA(2, 1, 1) MSE=287897.758\n",
      "Best ARIMA(1, 1, 1) MSE=277963.914\n",
      "77086\n",
      "ARIMA(0, 0, 0) MSE=438647704.835\n",
      "ARIMA(0, 0, 1) MSE=112045670.180\n",
      "ARIMA(0, 1, 0) MSE=544870.479\n",
      "ARIMA(0, 1, 1) MSE=185853.885\n",
      "ARIMA(1, 0, 0) MSE=703720.915\n",
      "ARIMA(1, 1, 0) MSE=88006.223\n",
      "ARIMA(1, 1, 1) MSE=74685.421\n",
      "ARIMA(2, 0, 0) MSE=88318.292\n",
      "ARIMA(2, 1, 0) MSE=82743.541\n",
      "ARIMA(2, 1, 1) MSE=78864.981\n",
      "Best ARIMA(1, 1, 1) MSE=74685.421\n",
      "77039\n",
      "ARIMA(0, 0, 0) MSE=242487374.221\n",
      "ARIMA(0, 0, 1) MSE=62819469.585\n",
      "ARIMA(0, 1, 0) MSE=647034.797\n",
      "ARIMA(0, 1, 1) MSE=255629.390\n",
      "ARIMA(1, 0, 0) MSE=779092.661\n",
      "ARIMA(1, 1, 0) MSE=226233.960\n",
      "ARIMA(1, 1, 1) MSE=181000.478\n",
      "ARIMA(2, 0, 0) MSE=228317.224\n",
      "ARIMA(2, 1, 0) MSE=213102.707\n",
      "ARIMA(2, 1, 1) MSE=182581.754\n",
      "Best ARIMA(1, 1, 1) MSE=181000.478\n",
      "77030\n",
      "ARIMA(0, 0, 0) MSE=19244266735.694\n",
      "ARIMA(0, 0, 1) MSE=4844540830.930\n",
      "ARIMA(0, 1, 0) MSE=12152015.599\n",
      "ARIMA(0, 1, 1) MSE=4835946.152\n",
      "ARIMA(1, 0, 0) MSE=14176571.382\n",
      "ARIMA(1, 1, 0) MSE=4087093.210\n"
     ]
    },
    {
     "name": "stdout",
     "output_type": "stream",
     "text": [
      "ARIMA(1, 1, 1) MSE=3131266.771\n",
      "ARIMA(2, 0, 0) MSE=4283517.067\n",
      "ARIMA(2, 1, 0) MSE=3642023.357\n",
      "ARIMA(2, 1, 1) MSE=3166792.663\n",
      "Best ARIMA(1, 1, 1) MSE=3131266.771\n",
      "77051\n",
      "ARIMA(0, 0, 0) MSE=238347495.059\n",
      "ARIMA(0, 0, 1) MSE=61243075.773\n",
      "ARIMA(0, 1, 0) MSE=912579.413\n",
      "ARIMA(0, 1, 1) MSE=427198.890\n",
      "ARIMA(1, 0, 0) MSE=1008737.249\n",
      "ARIMA(1, 1, 0) MSE=489474.712\n",
      "ARIMA(1, 1, 1) MSE=387454.273\n",
      "ARIMA(2, 0, 0) MSE=494123.821\n",
      "ARIMA(2, 1, 0) MSE=447060.483\n",
      "ARIMA(2, 1, 1) MSE=398821.101\n",
      "Best ARIMA(1, 1, 1) MSE=387454.273\n",
      "77031\n",
      "ARIMA(0, 0, 0) MSE=633624912.586\n",
      "ARIMA(0, 0, 1) MSE=161557825.251\n",
      "ARIMA(0, 1, 0) MSE=1382242.779\n",
      "ARIMA(0, 1, 1) MSE=442798.517\n",
      "ARIMA(1, 0, 0) MSE=1574913.857\n",
      "ARIMA(1, 1, 0) MSE=289926.466\n",
      "ARIMA(1, 1, 1) MSE=208837.005\n",
      "ARIMA(2, 1, 0) MSE=238942.621\n",
      "ARIMA(2, 1, 1) MSE=213381.508\n",
      "Best ARIMA(1, 1, 1) MSE=208837.005\n",
      "77028\n",
      "ARIMA(0, 0, 0) MSE=118536379.646\n",
      "ARIMA(0, 0, 1) MSE=30599948.633\n",
      "ARIMA(0, 1, 0) MSE=416302.408\n",
      "ARIMA(0, 1, 1) MSE=269389.577\n",
      "ARIMA(1, 0, 0) MSE=466527.173\n",
      "ARIMA(1, 1, 0) MSE=381790.600\n",
      "ARIMA(1, 1, 1) MSE=342496.925\n",
      "ARIMA(2, 0, 0) MSE=387732.084\n",
      "ARIMA(2, 0, 1) MSE=350425.242\n",
      "ARIMA(2, 1, 0) MSE=363200.976\n",
      "ARIMA(2, 1, 1) MSE=340905.709\n",
      "Best ARIMA(0, 1, 1) MSE=269389.577\n",
      "77401\n",
      "ARIMA(0, 0, 0) MSE=12741654090.488\n",
      "ARIMA(0, 0, 1) MSE=3215886559.506\n",
      "ARIMA(0, 1, 0) MSE=10453488.873\n",
      "ARIMA(0, 1, 1) MSE=3450455.671\n",
      "ARIMA(1, 0, 0) MSE=12547203.968\n",
      "ARIMA(1, 1, 0) MSE=2396315.920\n",
      "ARIMA(2, 1, 0) MSE=2307771.276\n",
      "ARIMA(2, 1, 1) MSE=1917113.848\n",
      "Best ARIMA(2, 1, 1) MSE=1917113.848\n",
      "77048\n",
      "ARIMA(0, 0, 0) MSE=368737081.853\n",
      "ARIMA(0, 0, 1) MSE=94715468.021\n",
      "ARIMA(0, 1, 0) MSE=1370994.716\n",
      "ARIMA(0, 1, 1) MSE=509535.551\n",
      "ARIMA(1, 0, 0) MSE=1521512.741\n",
      "ARIMA(1, 1, 0) MSE=493488.537\n",
      "ARIMA(1, 1, 1) MSE=317616.054\n",
      "ARIMA(2, 0, 0) MSE=499252.234\n",
      "ARIMA(2, 1, 0) MSE=368879.221\n",
      "ARIMA(2, 1, 1) MSE=306383.025\n",
      "Best ARIMA(2, 1, 1) MSE=306383.025\n",
      "77013\n",
      "ARIMA(0, 0, 0) MSE=318580499.732\n",
      "ARIMA(0, 0, 1) MSE=81699896.214\n",
      "ARIMA(0, 1, 0) MSE=628767.905\n",
      "ARIMA(0, 1, 1) MSE=233419.624\n",
      "ARIMA(1, 0, 0) MSE=749756.522\n",
      "ARIMA(1, 1, 0) MSE=154938.861\n",
      "ARIMA(1, 1, 1) MSE=119347.458\n",
      "ARIMA(2, 0, 0) MSE=156736.711\n",
      "ARIMA(2, 1, 0) MSE=139317.003\n",
      "ARIMA(2, 1, 1) MSE=121630.979\n",
      "Best ARIMA(1, 1, 1) MSE=119347.458\n",
      "77029\n",
      "ARIMA(0, 0, 0) MSE=124341559.120\n",
      "ARIMA(0, 0, 1) MSE=32208014.150\n",
      "ARIMA(0, 1, 0) MSE=881994.265\n",
      "ARIMA(0, 1, 1) MSE=421307.430\n",
      "ARIMA(1, 0, 0) MSE=938662.551\n",
      "ARIMA(1, 1, 0) MSE=557809.787\n",
      "ARIMA(1, 1, 1) MSE=410606.356\n",
      "ARIMA(2, 0, 0) MSE=564549.750\n",
      "ARIMA(2, 0, 1) MSE=418576.768\n",
      "ARIMA(2, 1, 0) MSE=498777.854\n",
      "ARIMA(2, 1, 1) MSE=416998.219\n",
      "Best ARIMA(1, 1, 1) MSE=410606.356\n",
      "77059\n",
      "ARIMA(0, 0, 0) MSE=2029169924.641\n",
      "ARIMA(0, 1, 0) MSE=2385867.947\n",
      "ARIMA(0, 1, 1) MSE=833267.996\n",
      "ARIMA(1, 1, 0) MSE=843397.834\n",
      "ARIMA(1, 1, 1) MSE=510926.286\n",
      "ARIMA(2, 1, 0) MSE=677608.733\n",
      "ARIMA(2, 1, 1) MSE=507942.837\n",
      "Best ARIMA(2, 1, 1) MSE=507942.837\n",
      "77002\n",
      "ARIMA(0, 0, 0) MSE=4259462759.150\n",
      "ARIMA(0, 1, 0) MSE=10920194.066\n",
      "ARIMA(0, 1, 1) MSE=4336442.480\n",
      "ARIMA(1, 1, 0) MSE=4534529.588\n",
      "ARIMA(2, 1, 0) MSE=4145168.892\n",
      "ARIMA(2, 1, 1) MSE=3336690.713\n",
      "Best ARIMA(2, 1, 1) MSE=3336690.713\n",
      "77447\n",
      "ARIMA(0, 0, 0) MSE=1441736760.153\n",
      "ARIMA(0, 0, 1) MSE=366355566.436\n",
      "ARIMA(0, 1, 0) MSE=904408.510\n",
      "ARIMA(0, 1, 1) MSE=336532.092\n",
      "ARIMA(1, 0, 0) MSE=1304956.515\n",
      "ARIMA(1, 1, 0) MSE=391912.752\n",
      "ARIMA(2, 0, 0) MSE=407335.381\n",
      "ARIMA(2, 1, 0) MSE=333141.318\n",
      "ARIMA(2, 1, 1) MSE=262053.540\n",
      "Best ARIMA(2, 1, 1) MSE=262053.540\n",
      "77587\n",
      "ARIMA(0, 0, 0) MSE=301176597.188\n",
      "ARIMA(0, 0, 1) MSE=77512888.032\n",
      "ARIMA(0, 1, 0) MSE=467518.316\n",
      "ARIMA(0, 1, 1) MSE=159803.760\n",
      "ARIMA(1, 0, 0) MSE=600038.182\n",
      "ARIMA(1, 1, 0) MSE=106440.828\n",
      "ARIMA(1, 1, 1) MSE=88552.266\n",
      "ARIMA(2, 0, 0) MSE=107141.417\n",
      "ARIMA(2, 0, 1) MSE=89938.841\n",
      "ARIMA(2, 1, 0) MSE=101221.100\n",
      "ARIMA(2, 1, 1) MSE=91291.048\n",
      "Best ARIMA(1, 1, 1) MSE=88552.266\n",
      "77037\n",
      "ARIMA(0, 0, 0) MSE=297647786.746\n",
      "ARIMA(0, 0, 1) MSE=76045185.725\n",
      "ARIMA(0, 1, 0) MSE=547503.711\n",
      "ARIMA(0, 1, 1) MSE=208142.061\n",
      "ARIMA(1, 0, 0) MSE=655812.083\n",
      "ARIMA(1, 1, 0) MSE=179078.461\n",
      "ARIMA(1, 1, 1) MSE=138384.770\n",
      "ARIMA(2, 0, 0) MSE=181313.476\n",
      "ARIMA(2, 0, 1) MSE=141133.062\n",
      "ARIMA(2, 1, 0) MSE=159792.581\n",
      "ARIMA(2, 1, 1) MSE=141003.198\n",
      "Best ARIMA(1, 1, 1) MSE=138384.770\n",
      "77085\n",
      "ARIMA(0, 0, 0) MSE=372764625.465\n",
      "ARIMA(0, 0, 1) MSE=95957821.266\n",
      "ARIMA(0, 1, 0) MSE=878989.882\n",
      "ARIMA(0, 1, 1) MSE=300195.100\n",
      "ARIMA(1, 0, 0) MSE=1040075.383\n",
      "ARIMA(1, 1, 0) MSE=175590.793\n",
      "ARIMA(1, 1, 1) MSE=133476.199\n",
      "ARIMA(2, 1, 0) MSE=151773.541\n",
      "ARIMA(2, 1, 1) MSE=135193.458\n",
      "Best ARIMA(1, 1, 1) MSE=133476.199\n",
      "77003\n",
      "ARIMA(0, 0, 0) MSE=3042719247.546\n",
      "ARIMA(0, 0, 1) MSE=767495807.400\n",
      "ARIMA(0, 1, 0) MSE=3933544.535\n",
      "ARIMA(0, 1, 1) MSE=1315555.115\n",
      "ARIMA(1, 0, 0) MSE=4409365.514\n",
      "ARIMA(1, 1, 0) MSE=740865.538\n",
      "ARIMA(1, 1, 1) MSE=510871.644\n",
      "ARIMA(2, 1, 0) MSE=625393.655\n",
      "ARIMA(2, 1, 1) MSE=512724.979\n",
      "Best ARIMA(1, 1, 1) MSE=510871.644\n",
      "77078\n",
      "ARIMA(0, 0, 0) MSE=194861876.598\n",
      "ARIMA(0, 0, 1) MSE=50286843.782\n",
      "ARIMA(0, 1, 0) MSE=596659.935\n",
      "ARIMA(0, 1, 1) MSE=247120.184\n",
      "ARIMA(1, 0, 0) MSE=689150.990\n",
      "ARIMA(1, 1, 0) MSE=336080.181\n",
      "ARIMA(1, 1, 1) MSE=235788.856\n",
      "ARIMA(2, 0, 0) MSE=342478.933\n",
      "ARIMA(2, 1, 0) MSE=309897.976\n",
      "ARIMA(2, 1, 1) MSE=240741.339\n",
      "Best ARIMA(1, 1, 1) MSE=235788.856\n",
      "77068\n",
      "ARIMA(0, 0, 0) MSE=878118355.665\n",
      "ARIMA(0, 0, 1) MSE=223229933.340\n",
      "ARIMA(0, 1, 0) MSE=973418.930\n",
      "ARIMA(0, 1, 1) MSE=366015.066\n",
      "ARIMA(1, 0, 0) MSE=1194462.753\n",
      "ARIMA(1, 1, 0) MSE=251168.732\n",
      "ARIMA(1, 1, 1) MSE=198342.388\n",
      "ARIMA(2, 1, 0) MSE=229164.702\n",
      "ARIMA(2, 1, 1) MSE=200329.649\n",
      "Best ARIMA(1, 1, 1) MSE=198342.388\n",
      "77562\n",
      "ARIMA(0, 0, 0) MSE=664128773.527\n",
      "ARIMA(0, 0, 1) MSE=169867979.205\n",
      "ARIMA(0, 1, 0) MSE=922929.190\n",
      "ARIMA(0, 1, 1) MSE=358287.276\n",
      "ARIMA(1, 0, 0) MSE=1150555.419\n",
      "ARIMA(1, 1, 0) MSE=336492.514\n",
      "ARIMA(1, 1, 1) MSE=257697.513\n",
      "ARIMA(2, 0, 0) MSE=343121.774\n",
      "ARIMA(2, 1, 0) MSE=304869.526\n",
      "ARIMA(2, 1, 1) MSE=262185.587\n",
      "Best ARIMA(1, 1, 1) MSE=257697.513\n",
      "77032\n",
      "ARIMA(0, 0, 0) MSE=217843496.900\n",
      "ARIMA(0, 0, 1) MSE=56703804.626\n",
      "ARIMA(0, 1, 0) MSE=695020.458\n",
      "ARIMA(0, 1, 1) MSE=290341.784\n",
      "ARIMA(1, 0, 0) MSE=821404.578\n",
      "ARIMA(1, 1, 0) MSE=234264.337\n",
      "ARIMA(1, 1, 1) MSE=204166.229\n",
      "ARIMA(2, 0, 0) MSE=236792.782\n",
      "ARIMA(2, 1, 0) MSE=222536.378\n",
      "ARIMA(2, 1, 1) MSE=205434.481\n",
      "Best ARIMA(1, 1, 1) MSE=204166.229\n",
      "77094\n",
      "ARIMA(0, 0, 0) MSE=4912251595.129\n",
      "ARIMA(0, 0, 1) MSE=1228525661.003\n",
      "ARIMA(0, 1, 0) MSE=6013233.158\n",
      "ARIMA(0, 1, 1) MSE=2085543.073\n",
      "ARIMA(1, 0, 0) MSE=5513708.722\n",
      "ARIMA(1, 1, 0) MSE=1110634.335\n",
      "ARIMA(2, 0, 0) MSE=1140706.401\n",
      "ARIMA(2, 1, 0) MSE=1022679.347\n",
      "ARIMA(2, 1, 1) MSE=844470.077\n",
      "Best ARIMA(2, 1, 1) MSE=844470.077\n",
      "77547\n",
      "ARIMA(0, 0, 0) MSE=117182820.740\n",
      "ARIMA(0, 0, 1) MSE=29927029.146\n",
      "ARIMA(0, 1, 0) MSE=1128557.561\n",
      "ARIMA(0, 1, 1) MSE=451163.503\n",
      "ARIMA(1, 0, 0) MSE=1149750.483\n",
      "ARIMA(1, 1, 0) MSE=521720.344\n",
      "ARIMA(1, 1, 1) MSE=328170.474\n",
      "ARIMA(2, 0, 0) MSE=522939.581\n",
      "ARIMA(2, 0, 1) MSE=328642.033\n",
      "ARIMA(2, 1, 0) MSE=373655.388\n",
      "ARIMA(2, 1, 1) MSE=316486.376\n",
      "Best ARIMA(2, 1, 1) MSE=316486.376\n",
      "77050\n",
      "ARIMA(0, 0, 0) MSE=271020748.474\n",
      "ARIMA(0, 0, 1) MSE=70083594.898\n",
      "ARIMA(0, 1, 0) MSE=949976.381\n",
      "ARIMA(0, 1, 1) MSE=459141.128\n",
      "ARIMA(1, 0, 0) MSE=1094832.393\n",
      "ARIMA(1, 1, 0) MSE=491555.960\n",
      "ARIMA(1, 1, 1) MSE=445723.286\n",
      "ARIMA(2, 0, 0) MSE=496604.475\n",
      "ARIMA(2, 1, 0) MSE=490839.254\n",
      "ARIMA(2, 1, 1) MSE=449423.029\n",
      "Best ARIMA(1, 1, 1) MSE=445723.286\n"
     ]
    }
   ],
   "source": [
    "roi_list = {}\n",
    "for index, x in df[(df['CountyName'] == 'Harris') & (df['State'] == 'TX')].iterrows():\n",
    "    '''\n",
    "    function that loop through each single zipcode, apply and evaluate the best ARIMA model\n",
    "    through the smallest MSE based on several values and \n",
    "    '''\n",
    "    print(x['RegionName'])\n",
    "    series = melt_data(df.loc[[index]])\n",
    "    # evaluate parameters\n",
    "    p_values = [0, 1, 2]\n",
    "    d_values = range(0, 2)\n",
    "    q_values = range(0, 2)\n",
    "    warnings.filterwarnings(\"ignore\")\n",
    "    \n",
    "    order = evaluate_models(series.values, p_values, d_values, q_values)\n",
    "    \n",
    "    model= ARIMA(series, order=order)\n",
    "    model_fit= model.fit()\n",
    "    thirty_six_months = model_fit.forecast(steps=36)[0][-1]\n",
    "    today = series.iloc[-1].value\n",
    "    roi = (thirty_six_months - today)/today\n",
    "    roi_list[x['RegionName']] = roi"
   ]
  },
  {
   "cell_type": "code",
   "execution_count": 11,
   "metadata": {},
   "outputs": [
    {
     "name": "stdout",
     "output_type": "stream",
     "text": [
      "77072 0.14603773131276876\n",
      "77099 0.13314254101586045\n",
      "77093 0.13054112172319524\n",
      "77043 0.12793545476481188\n",
      "77017 0.1277927263316477\n",
      "77016 0.1190009617973485\n",
      "77503 0.11556553473636144\n",
      "77036 0.11314078962851168\n",
      "77502 0.1106174203977435\n",
      "77006 0.11004201669149047\n",
      "77506 0.10842620905344388\n",
      "77005 0.10414442225805044\n",
      "77021 0.10410283800315984\n",
      "77015 0.1040671266753494\n",
      "77339 0.1036029034676159\n",
      "77055 0.10022635684226332\n",
      "77020 0.09839824550908115\n",
      "77013 0.09770313037294222\n",
      "77530 0.09715538022000571\n",
      "77031 0.09643146279710338\n",
      "77092 0.09402300183263822\n",
      "77063 0.09366119328468003\n",
      "77066 0.09254068398514287\n",
      "77029 0.09229573438936384\n",
      "77077 0.09155542308405241\n",
      "77008 0.09048405714023636\n",
      "77089 0.09032298339582279\n",
      "77028 0.09022010115953112\n",
      "77078 0.08902929066587643\n",
      "77037 0.08642703571632226\n",
      "77504 0.08531779858334732\n",
      "77396 0.08497444914884553\n",
      "77346 0.08452051380223694\n",
      "77447 0.08428932842820462\n",
      "77004 0.08324031780962729\n",
      "77071 0.08274966054292655\n",
      "77014 0.08201733279271145\n",
      "77045 0.08163439828180834\n",
      "77375 0.08082957755895946\n",
      "77598 0.080611826919657\n",
      "77039 0.08038970188062718\n",
      "77562 0.07993238518698942\n",
      "77091 0.07910521380942925\n",
      "77084 0.0787110178389838\n",
      "77547 0.07719788835759593\n",
      "77523 0.0771472800764819\n",
      "77033 0.0769417914701606\n",
      "77586 0.07658651404723679\n",
      "77521 0.07652399299505418\n",
      "77449 0.07609774677270947\n",
      "77019 0.07565510056170842\n",
      "77048 0.07547071066730947\n",
      "77493 0.07527793461261334\n",
      "77034 0.07519355123986825\n",
      "77049 0.07465559191403001\n",
      "77087 0.07427672624314918\n",
      "77053 0.07426864238794496\n",
      "77095 0.0738465131176377\n",
      "77044 0.07382256978222028\n",
      "77060 0.0736603425531829\n",
      "77536 0.07308209964402024\n",
      "77051 0.07283359293548702\n",
      "77520 0.07100273435936723\n",
      "77050 0.07006226597342372\n",
      "77373 0.06952136461597269\n",
      "77505 0.06874879663691232\n",
      "77018 0.06857959306759327\n",
      "77388 0.06754002297073329\n",
      "77057 0.06696223779580951\n",
      "77070 0.06618197220600028\n",
      "77338 0.06616769569066488\n",
      "77085 0.06587682997601789\n",
      "77386 0.06562473894735721\n",
      "77062 0.0655430762102448\n",
      "77074 0.06419608943906917\n",
      "77433 0.06352528883996843\n",
      "77047 0.06344901534699934\n",
      "77038 0.0626619782354586\n",
      "77032 0.06264604746108349\n",
      "77571 0.06187522474795054\n",
      "77061 0.06173190137158152\n",
      "77098 0.06089208470429026\n",
      "77068 0.06087762575320477\n",
      "77064 0.060829539306365144\n",
      "77024 0.05936002085024487\n",
      "77040 0.05907443976693583\n",
      "77377 0.058214552435930864\n",
      "77494 0.057756907367743346\n",
      "77075 0.057063971714771955\n",
      "77082 0.056451902915699216\n",
      "77080 0.05610944652547483\n",
      "77058 0.05587037666422158\n",
      "77002 0.05474725490559363\n",
      "77041 0.052926188011222404\n",
      "77065 0.05222010711317658\n",
      "77532 0.05211564939714881\n",
      "77056 0.05191255685474943\n",
      "77030 0.047392578090845634\n",
      "77429 0.0467496543394366\n",
      "77088 0.045938498281125006\n",
      "77007 0.04569306043613879\n",
      "77086 0.04475925231208196\n",
      "77042 0.04458571183913658\n",
      "77069 0.04428522748971575\n",
      "77035 0.04293381305183931\n",
      "77059 0.042131522041724795\n",
      "77345 0.041880869064535135\n",
      "77067 0.04053011972277232\n",
      "77379 0.03921387628437047\n",
      "77081 0.037848169996007736\n",
      "77073 0.03775235472128792\n",
      "77401 0.02839242642473145\n",
      "77054 0.026380415575682915\n",
      "77587 0.025575954465384354\n",
      "77027 0.02442795343050931\n",
      "77003 0.0009481451395371665\n",
      "77094 0.0003584254517895724\n",
      "77096 -0.025325347508294262\n",
      "77090 -0.03229076644403958\n",
      "77079 -0.04845844158684962\n",
      "77025 -0.10939022969533899\n"
     ]
    },
    {
     "data": {
      "text/html": [
       "<div>\n",
       "<style scoped>\n",
       "    .dataframe tbody tr th:only-of-type {\n",
       "        vertical-align: middle;\n",
       "    }\n",
       "\n",
       "    .dataframe tbody tr th {\n",
       "        vertical-align: top;\n",
       "    }\n",
       "\n",
       "    .dataframe thead th {\n",
       "        text-align: right;\n",
       "    }\n",
       "</style>\n",
       "<table border=\"1\" class=\"dataframe\">\n",
       "  <thead>\n",
       "    <tr style=\"text-align: right;\">\n",
       "      <th></th>\n",
       "      <th>ZipCode</th>\n",
       "      <th>ROI</th>\n",
       "    </tr>\n",
       "  </thead>\n",
       "  <tbody>\n",
       "    <tr>\n",
       "      <th>0</th>\n",
       "      <td>77072</td>\n",
       "      <td>0.146038</td>\n",
       "    </tr>\n",
       "    <tr>\n",
       "      <th>1</th>\n",
       "      <td>77099</td>\n",
       "      <td>0.133143</td>\n",
       "    </tr>\n",
       "    <tr>\n",
       "      <th>2</th>\n",
       "      <td>77093</td>\n",
       "      <td>0.130541</td>\n",
       "    </tr>\n",
       "    <tr>\n",
       "      <th>3</th>\n",
       "      <td>77043</td>\n",
       "      <td>0.127935</td>\n",
       "    </tr>\n",
       "    <tr>\n",
       "      <th>4</th>\n",
       "      <td>77017</td>\n",
       "      <td>0.127793</td>\n",
       "    </tr>\n",
       "  </tbody>\n",
       "</table>\n",
       "</div>"
      ],
      "text/plain": [
       "   ZipCode       ROI\n",
       "0    77072  0.146038\n",
       "1    77099  0.133143\n",
       "2    77093  0.130541\n",
       "3    77043  0.127935\n",
       "4    77017  0.127793"
      ]
     },
     "execution_count": 11,
     "metadata": {},
     "output_type": "execute_result"
    }
   ],
   "source": [
    "# Sort the roi_list\n",
    "s = [(k, roi_list[k]) for k in sorted(roi_list, key=roi_list.get, reverse=True)]\n",
    "for k, v in s:\n",
    "    print(k, v)\n",
    "# Choose Top 5 zipcodes in put in a new dataframe\n",
    "top_5_zipcode = pd.DataFrame(s[:5])\n",
    "top_5_zipcode.columns = ['ZipCode', 'ROI']\n",
    "top_5_zipcode"
   ]
  },
  {
   "cell_type": "markdown",
   "metadata": {},
   "source": [
    "# More details about Top 5 Zipcodes for Investment in Harris County"
   ]
  },
  {
   "cell_type": "markdown",
   "metadata": {},
   "source": [
    "### 1) Zipcode: 77072"
   ]
  },
  {
   "cell_type": "code",
   "execution_count": 12,
   "metadata": {},
   "outputs": [
    {
     "data": {
      "text/html": [
       "<div>\n",
       "<style scoped>\n",
       "    .dataframe tbody tr th:only-of-type {\n",
       "        vertical-align: middle;\n",
       "    }\n",
       "\n",
       "    .dataframe tbody tr th {\n",
       "        vertical-align: top;\n",
       "    }\n",
       "\n",
       "    .dataframe thead th {\n",
       "        text-align: right;\n",
       "    }\n",
       "</style>\n",
       "<table border=\"1\" class=\"dataframe\">\n",
       "  <thead>\n",
       "    <tr style=\"text-align: right;\">\n",
       "      <th></th>\n",
       "      <th>value</th>\n",
       "    </tr>\n",
       "    <tr>\n",
       "      <th>time</th>\n",
       "      <th></th>\n",
       "    </tr>\n",
       "  </thead>\n",
       "  <tbody>\n",
       "    <tr>\n",
       "      <th>1996-04-01</th>\n",
       "      <td>65900.0</td>\n",
       "    </tr>\n",
       "    <tr>\n",
       "      <th>1996-05-01</th>\n",
       "      <td>65900.0</td>\n",
       "    </tr>\n",
       "    <tr>\n",
       "      <th>1996-06-01</th>\n",
       "      <td>65900.0</td>\n",
       "    </tr>\n",
       "    <tr>\n",
       "      <th>1996-07-01</th>\n",
       "      <td>66000.0</td>\n",
       "    </tr>\n",
       "    <tr>\n",
       "      <th>1996-08-01</th>\n",
       "      <td>66000.0</td>\n",
       "    </tr>\n",
       "  </tbody>\n",
       "</table>\n",
       "</div>"
      ],
      "text/plain": [
       "              value\n",
       "time               \n",
       "1996-04-01  65900.0\n",
       "1996-05-01  65900.0\n",
       "1996-06-01  65900.0\n",
       "1996-07-01  66000.0\n",
       "1996-08-01  66000.0"
      ]
     },
     "execution_count": 12,
     "metadata": {},
     "output_type": "execute_result"
    }
   ],
   "source": [
    "# melt the time series data for the zipcode\n",
    "harris_77072 = df[df['RegionName'] == 77072]\n",
    "harris_77072 = melt_data(harris_77072)\n",
    "harris_77072.head()"
   ]
  },
  {
   "cell_type": "code",
   "execution_count": 13,
   "metadata": {},
   "outputs": [
    {
     "data": {
      "image/png": "[encoded data removed]",
      "text/plain": [
       "<Figure size 864x576 with 1 Axes>"
      ]
     },
     "metadata": {},
     "output_type": "display_data"
    }
   ],
   "source": [
    "# Plot its property value over time\n",
    "harris_77072.plot(figsize=(12,8))\n",
    "plt.title('Propery Value Over Time in Zipcode 77072', fontsize=16)\n",
    "plt.xlabel('Year', fontsize=14)\n",
    "plt.xticks(fontsize=14)\n",
    "plt.yticks(fontsize=14)\n",
    "plt.ylabel('Value', fontsize=14);"
   ]
  },
  {
   "cell_type": "code",
   "execution_count": 17,
   "metadata": {},
   "outputs": [
    {
     "name": "stdout",
     "output_type": "stream",
     "text": [
      "                             ARIMA Model Results                              \n",
      "==============================================================================\n",
      "Dep. Variable:                D.value   No. Observations:                  264\n",
      "Model:                 ARIMA(1, 1, 1)   Log Likelihood               -1856.237\n",
      "Method:                       css-mle   S.D. of innovations            272.750\n",
      "Date:                Thu, 06 Aug 2020   AIC                           3720.474\n",
      "Time:                        20:40:56   BIC                           3734.778\n",
      "Sample:                    05-01-1996   HQIC                          3726.222\n",
      "                         - 04-01-2018                                         \n",
      "=================================================================================\n",
      "                    coef    std err          z      P>|z|      [0.025      0.975]\n",
      "---------------------------------------------------------------------------------\n",
      "const           282.0589    127.901      2.205      0.027      31.378     532.739\n",
      "ar.L1.D.value     0.8105      0.040     20.243      0.000       0.732       0.889\n",
      "ma.L1.D.value     0.4667      0.052      9.006      0.000       0.365       0.568\n",
      "                                    Roots                                    \n",
      "=============================================================================\n",
      "                  Real          Imaginary           Modulus         Frequency\n",
      "-----------------------------------------------------------------------------\n",
      "AR.1            1.2339           +0.0000j            1.2339            0.0000\n",
      "MA.1           -2.1428           +0.0000j            2.1428            0.5000\n",
      "-----------------------------------------------------------------------------\n"
     ]
    },
    {
     "data": {
      "image/png": "[encoded data removed]",
      "text/plain": [
       "<Figure size 576x396 with 1 Axes>"
      ]
     },
     "metadata": {},
     "output_type": "display_data"
    }
   ],
   "source": [
    "# plug the optimal parameter values into a new ARIMA model for that zipcode\n",
    "model_77072 = ARIMA(harris_77072, order = (1, 1, 1))\n",
    "# Fit the model for the zipcode \n",
    "model_77072_fit = model_77072.fit(disp=0)\n",
    "# Print the summary table and plot predict\n",
    "print(model_77072_fit.summary())\n",
    "model_77072_fit.plot_predict();"
   ]
  },
  {
   "cell_type": "code",
   "execution_count": 22,
   "metadata": {},
   "outputs": [],
   "source": [
    "# Make a forecast for 3 years of investment\n",
    "forecast_77072 = model_77072_fit.forecast(36)\n",
    "actual_forecast_77072 = forecast_77072[0]\n",
    "forecast_conf_int_77072 = forecast_77072[2]"
   ]
  },
  {
   "cell_type": "code",
   "execution_count": 23,
   "metadata": {},
   "outputs": [],
   "source": [
    "# make dataframe with forecast and 95% confidence interval \n",
    "df_forecast_77072 = pd.DataFrame({'time': pd.date_range(start = '2017-05-01', end = '2020-04-01', freq = 'MS')})\n",
    "df_forecast_77072['forecast'] = actual_forecast_77072\n",
    "df_forecast_77072['lower_bound'] = forecast_conf_int_77072[:, 0]\n",
    "df_forecast_77072['upper_bound'] = forecast_conf_int_77072[:, 1]\n",
    "df_forecast_77072.set_index('time', inplace = True)"
   ]
  },
  {
   "cell_type": "code",
   "execution_count": 24,
   "metadata": {},
   "outputs": [],
   "source": [
    "# combine raw data dataframe and forecast dataframe\n",
    "df_77072 = pd.concat([harris_77072, df_forecast_77072])"
   ]
  },
  {
   "cell_type": "code",
   "execution_count": 25,
   "metadata": {},
   "outputs": [
    {
     "data": {
      "text/plain": [
       "Text(0.5, 1.0, 'Forecast for Zipcode 77072')"
      ]
     },
     "execution_count": 25,
     "metadata": {},
     "output_type": "execute_result"
    },
    {
     "data": {
      "image/png": "[encoded data removed]",
      "text/plain": [
       "<Figure size 864x576 with 1 Axes>"
      ]
     },
     "metadata": {},
     "output_type": "display_data"
    }
   ],
   "source": [
    "fig = plt.figure(figsize = (12, 8))\n",
    "\n",
    "plt.plot(df_77072['value'], label = 'Raw Fata')\n",
    "plt.plot(df_77072['forecast'], label = 'Forecast')\n",
    "plt.fill_between(df_77072.index, df_77072['lower_bound'], df_77072['upper_bound'], \n",
    "                 color=\"k\", alpha=.15, label = 'Confidence Interval')\n",
    "plt.legend(loc = 'upper left')\n",
    "plt.title('Forecast for Zipcode 77072')"
   ]
  },
  {
   "cell_type": "code",
   "execution_count": 27,
   "metadata": {},
   "outputs": [],
   "source": [
    "# Predict property value after 3 years\n",
    "forecast_77072_3yrs = df_77072.loc['2020-04-01', 'forecast']\n",
    "forecast_77072_lower = df_77072.loc['2020-04-01', 'lower_bound']\n",
    "forecast_77072_upper = df_77072.loc['2020-04-01', 'upper_bound']"
   ]
  },
  {
   "cell_type": "code",
   "execution_count": 29,
   "metadata": {},
   "outputs": [],
   "source": [
    "last_price_77072 = harris_77072.loc['2017-05-01', 'value']"
   ]
  },
  {
   "cell_type": "code",
   "execution_count": 33,
   "metadata": {},
   "outputs": [
    {
     "name": "stdout",
     "output_type": "stream",
     "text": [
      "Predicted percentage return on investment in 77072\n"
     ]
    },
    {
     "data": {
      "text/plain": [
       "time\n",
       "2020-04-01    22.077932\n",
       "Name: forecast, dtype: float64"
      ]
     },
     "execution_count": 33,
     "metadata": {},
     "output_type": "execute_result"
    }
   ],
   "source": [
    "percent_return_77072 = (forecast_77072_3yrs - last_price_77072) / last_price_77072\n",
    "print('Predicted percentage return on investment in 77072')\n",
    "percent_return_77072*100"
   ]
  },
  {
   "cell_type": "code",
   "execution_count": 34,
   "metadata": {},
   "outputs": [
    {
     "name": "stdout",
     "output_type": "stream",
     "text": [
      "The max return on investment in 77072\n"
     ]
    },
    {
     "data": {
      "text/plain": [
       "time\n",
       "2020-04-01    40.021232\n",
       "Name: upper_bound, dtype: float64"
      ]
     },
     "execution_count": 34,
     "metadata": {},
     "output_type": "execute_result"
    }
   ],
   "source": [
    "best_return_77072 = (forecast_77072_upper - last_price_77072) / last_price_77072\n",
    "print('The max return on investment in 77072')\n",
    "best_return_77072*100"
   ]
  },
  {
   "cell_type": "code",
   "execution_count": 36,
   "metadata": {},
   "outputs": [
    {
     "name": "stdout",
     "output_type": "stream",
     "text": [
      "In the worst case, the percentage return on investment in 77072 is:\n"
     ]
    },
    {
     "data": {
      "text/plain": [
       "time\n",
       "2020-04-01    4.134632\n",
       "Name: lower_bound, dtype: float64"
      ]
     },
     "execution_count": 36,
     "metadata": {},
     "output_type": "execute_result"
    }
   ],
   "source": [
    "worst_return_77072 = (forecast_77072_lower - last_price_77072) / last_price_77072\n",
    "print('In the worst case, the percentage return on investment in 77072 is:')\n",
    "worst_return_77072*100"
   ]
  },
  {
   "cell_type": "markdown",
   "metadata": {},
   "source": [
    "### 2) Zipcode: 77099"
   ]
  },
  {
   "cell_type": "code",
   "execution_count": 37,
   "metadata": {},
   "outputs": [
    {
     "data": {
      "text/html": [
       "<div>\n",
       "<style scoped>\n",
       "    .dataframe tbody tr th:only-of-type {\n",
       "        vertical-align: middle;\n",
       "    }\n",
       "\n",
       "    .dataframe tbody tr th {\n",
       "        vertical-align: top;\n",
       "    }\n",
       "\n",
       "    .dataframe thead th {\n",
       "        text-align: right;\n",
       "    }\n",
       "</style>\n",
       "<table border=\"1\" class=\"dataframe\">\n",
       "  <thead>\n",
       "    <tr style=\"text-align: right;\">\n",
       "      <th></th>\n",
       "      <th>value</th>\n",
       "    </tr>\n",
       "    <tr>\n",
       "      <th>time</th>\n",
       "      <th></th>\n",
       "    </tr>\n",
       "  </thead>\n",
       "  <tbody>\n",
       "    <tr>\n",
       "      <th>1996-04-01</th>\n",
       "      <td>72100.0</td>\n",
       "    </tr>\n",
       "    <tr>\n",
       "      <th>1996-05-01</th>\n",
       "      <td>72100.0</td>\n",
       "    </tr>\n",
       "    <tr>\n",
       "      <th>1996-06-01</th>\n",
       "      <td>72200.0</td>\n",
       "    </tr>\n",
       "    <tr>\n",
       "      <th>1996-07-01</th>\n",
       "      <td>72200.0</td>\n",
       "    </tr>\n",
       "    <tr>\n",
       "      <th>1996-08-01</th>\n",
       "      <td>72200.0</td>\n",
       "    </tr>\n",
       "  </tbody>\n",
       "</table>\n",
       "</div>"
      ],
      "text/plain": [
       "              value\n",
       "time               \n",
       "1996-04-01  72100.0\n",
       "1996-05-01  72100.0\n",
       "1996-06-01  72200.0\n",
       "1996-07-01  72200.0\n",
       "1996-08-01  72200.0"
      ]
     },
     "execution_count": 37,
     "metadata": {},
     "output_type": "execute_result"
    }
   ],
   "source": [
    "# melt the time series data for the zipcode\n",
    "harris_77099 = df[df['RegionName'] == 77099]\n",
    "harris_77099 = melt_data(harris_77099)\n",
    "harris_77099.head()"
   ]
  },
  {
   "cell_type": "code",
   "execution_count": 38,
   "metadata": {},
   "outputs": [
    {
     "data": {
      "image/png": "[encoded data removed]",
      "text/plain": [
       "<Figure size 864x576 with 1 Axes>"
      ]
     },
     "metadata": {},
     "output_type": "display_data"
    }
   ],
   "source": [
    "# Plot its property value over time\n",
    "harris_77099.plot(figsize=(12,8))\n",
    "plt.title('Propery Value Over Time in Zipcode 77099', fontsize=16)\n",
    "plt.xlabel('Year', fontsize=14)\n",
    "plt.xticks(fontsize=14)\n",
    "plt.yticks(fontsize=14)\n",
    "plt.ylabel('Value', fontsize=14);"
   ]
  },
  {
   "cell_type": "code",
   "execution_count": 39,
   "metadata": {},
   "outputs": [
    {
     "name": "stdout",
     "output_type": "stream",
     "text": [
      "                             ARIMA Model Results                              \n",
      "==============================================================================\n",
      "Dep. Variable:                D.value   No. Observations:                  264\n",
      "Model:                 ARIMA(1, 1, 1)   Log Likelihood               -1855.940\n",
      "Method:                       css-mle   S.D. of innovations            272.342\n",
      "Date:                Thu, 06 Aug 2020   AIC                           3719.880\n",
      "Time:                        21:12:07   BIC                           3734.184\n",
      "Sample:                    05-01-1996   HQIC                          3725.628\n",
      "                         - 04-01-2018                                         \n",
      "=================================================================================\n",
      "                    coef    std err          z      P>|z|      [0.025      0.975]\n",
      "---------------------------------------------------------------------------------\n",
      "const           283.2061    136.024      2.082      0.037      16.604     549.808\n",
      "ar.L1.D.value     0.8136      0.039     20.901      0.000       0.737       0.890\n",
      "ma.L1.D.value     0.5382      0.053     10.230      0.000       0.435       0.641\n",
      "                                    Roots                                    \n",
      "=============================================================================\n",
      "                  Real          Imaginary           Modulus         Frequency\n",
      "-----------------------------------------------------------------------------\n",
      "AR.1            1.2292           +0.0000j            1.2292            0.0000\n",
      "MA.1           -1.8581           +0.0000j            1.8581            0.5000\n",
      "-----------------------------------------------------------------------------\n"
     ]
    },
    {
     "data": {
      "image/png": "[encoded data removed]",
      "text/plain": [
       "<Figure size 576x396 with 1 Axes>"
      ]
     },
     "metadata": {},
     "output_type": "display_data"
    }
   ],
   "source": [
    "# plug the optimal parameter values into a new ARIMA model for that zipcode\n",
    "model_77099 = ARIMA(harris_77099, order = (1, 1, 1))\n",
    "# Fit the model for the zipcode \n",
    "model_77099_fit = model_77099.fit(disp=0)\n",
    "# Print the summary table and plot predict\n",
    "print(model_77099_fit.summary())\n",
    "model_77099_fit.plot_predict();"
   ]
  },
  {
   "cell_type": "code",
   "execution_count": 41,
   "metadata": {},
   "outputs": [],
   "source": [
    "# Make a forecast for 3 years of investment\n",
    "forecast_77099 = model_77099_fit.forecast(36)\n",
    "actual_forecast_77099 = forecast_77099[0]\n",
    "forecast_conf_int_77099 = forecast_77099[2]"
   ]
  },
  {
   "cell_type": "code",
   "execution_count": 42,
   "metadata": {},
   "outputs": [],
   "source": [
    "# make dataframe with forecast and 95% confidence interval \n",
    "df_forecast_77099 = pd.DataFrame({'time': pd.date_range(start = '2017-05-01', end = '2020-04-01', freq = 'MS')})\n",
    "df_forecast_77099['forecast'] = actual_forecast_77099\n",
    "df_forecast_77099['lower_bound'] = forecast_conf_int_77099[:, 0]\n",
    "df_forecast_77099['upper_bound'] = forecast_conf_int_77099[:, 1]\n",
    "df_forecast_77099.set_index('time', inplace = True)"
   ]
  },
  {
   "cell_type": "code",
   "execution_count": 43,
   "metadata": {},
   "outputs": [],
   "source": [
    "# combine raw data dataframe and forecast dataframe\n",
    "df_77099 = pd.concat([harris_77099, df_forecast_77099])"
   ]
  },
  {
   "cell_type": "code",
   "execution_count": 52,
   "metadata": {},
   "outputs": [
    {
     "data": {
      "text/plain": [
       "Text(0.5, 1.0, 'Forecast for Zipcode 77099')"
      ]
     },
     "execution_count": 52,
     "metadata": {},
     "output_type": "execute_result"
    },
    {
     "data": {
      "image/png": "[encoded data removed]",
      "text/plain": [
       "<Figure size 864x576 with 1 Axes>"
      ]
     },
     "metadata": {},
     "output_type": "display_data"
    }
   ],
   "source": [
    "fig = plt.figure(figsize = (12, 8))\n",
    "\n",
    "plt.plot(df_77099['value'], label = 'Raw Fata')\n",
    "plt.plot(df_77099['forecast'], label = 'Forecast')\n",
    "plt.fill_between(df_77099.index, df_77099['lower_bound'], df_77099['upper_bound'], \n",
    "                 color=\"k\", alpha=.15, label = 'Confidence Interval')\n",
    "plt.legend(loc = 'upper left')\n",
    "plt.title('Forecast for Zipcode 77099', fontsize=14)"
   ]
  },
  {
   "cell_type": "code",
   "execution_count": 45,
   "metadata": {},
   "outputs": [],
   "source": [
    "# Predict property value after 3 years\n",
    "forecast_77099_3yrs = df_77099.loc['2020-04-01', 'forecast']\n",
    "forecast_77099_lower = df_77099.loc['2020-04-01', 'lower_bound']\n",
    "forecast_77099_upper = df_77099.loc['2020-04-01', 'upper_bound']"
   ]
  },
  {
   "cell_type": "code",
   "execution_count": 46,
   "metadata": {},
   "outputs": [],
   "source": [
    "last_price_77099 = harris_77099.loc['2017-05-01', 'value']"
   ]
  },
  {
   "cell_type": "code",
   "execution_count": 47,
   "metadata": {},
   "outputs": [
    {
     "name": "stdout",
     "output_type": "stream",
     "text": [
      "Predicted percentage return on investment in 77099\n"
     ]
    },
    {
     "data": {
      "text/plain": [
       "time\n",
       "2020-04-01    25.10108\n",
       "Name: forecast, dtype: float64"
      ]
     },
     "execution_count": 47,
     "metadata": {},
     "output_type": "execute_result"
    }
   ],
   "source": [
    "percent_return_77099 = (forecast_77099_3yrs - last_price_77099) / last_price_77099\n",
    "print('Predicted percentage return on investment in 77099')\n",
    "percent_return_77099*100"
   ]
  },
  {
   "cell_type": "code",
   "execution_count": 48,
   "metadata": {},
   "outputs": [
    {
     "name": "stdout",
     "output_type": "stream",
     "text": [
      "The max return on investment in 77099\n"
     ]
    },
    {
     "data": {
      "text/plain": [
       "time\n",
       "2020-04-01    43.74508\n",
       "Name: upper_bound, dtype: float64"
      ]
     },
     "execution_count": 48,
     "metadata": {},
     "output_type": "execute_result"
    }
   ],
   "source": [
    "best_return_77099 = (forecast_77099_upper - last_price_77099) / last_price_77099\n",
    "print('The max return on investment in 77099')\n",
    "best_return_77099*100"
   ]
  },
  {
   "cell_type": "code",
   "execution_count": 49,
   "metadata": {},
   "outputs": [
    {
     "name": "stdout",
     "output_type": "stream",
     "text": [
      "In the worst case, the percentage return on investment in 77099 is:\n"
     ]
    },
    {
     "data": {
      "text/plain": [
       "time\n",
       "2020-04-01    6.45708\n",
       "Name: lower_bound, dtype: float64"
      ]
     },
     "execution_count": 49,
     "metadata": {},
     "output_type": "execute_result"
    }
   ],
   "source": [
    "worst_return_77099 = (forecast_77099_lower - last_price_77099) / last_price_77099\n",
    "print('In the worst case, the percentage return on investment in 77099 is:')\n",
    "worst_return_77099*100"
   ]
  },
  {
   "cell_type": "markdown",
   "metadata": {},
   "source": [
    "### 3) Zipcode: 77093"
   ]
  },
  {
   "cell_type": "code",
   "execution_count": 50,
   "metadata": {},
   "outputs": [
    {
     "data": {
      "text/html": [
       "<div>\n",
       "<style scoped>\n",
       "    .dataframe tbody tr th:only-of-type {\n",
       "        vertical-align: middle;\n",
       "    }\n",
       "\n",
       "    .dataframe tbody tr th {\n",
       "        vertical-align: top;\n",
       "    }\n",
       "\n",
       "    .dataframe thead th {\n",
       "        text-align: right;\n",
       "    }\n",
       "</style>\n",
       "<table border=\"1\" class=\"dataframe\">\n",
       "  <thead>\n",
       "    <tr style=\"text-align: right;\">\n",
       "      <th></th>\n",
       "      <th>value</th>\n",
       "    </tr>\n",
       "    <tr>\n",
       "      <th>time</th>\n",
       "      <th></th>\n",
       "    </tr>\n",
       "  </thead>\n",
       "  <tbody>\n",
       "    <tr>\n",
       "      <th>1996-04-01</th>\n",
       "      <td>43200.0</td>\n",
       "    </tr>\n",
       "    <tr>\n",
       "      <th>1996-05-01</th>\n",
       "      <td>43200.0</td>\n",
       "    </tr>\n",
       "    <tr>\n",
       "      <th>1996-06-01</th>\n",
       "      <td>43300.0</td>\n",
       "    </tr>\n",
       "    <tr>\n",
       "      <th>1996-07-01</th>\n",
       "      <td>43300.0</td>\n",
       "    </tr>\n",
       "    <tr>\n",
       "      <th>1996-08-01</th>\n",
       "      <td>43300.0</td>\n",
       "    </tr>\n",
       "  </tbody>\n",
       "</table>\n",
       "</div>"
      ],
      "text/plain": [
       "              value\n",
       "time               \n",
       "1996-04-01  43200.0\n",
       "1996-05-01  43200.0\n",
       "1996-06-01  43300.0\n",
       "1996-07-01  43300.0\n",
       "1996-08-01  43300.0"
      ]
     },
     "execution_count": 50,
     "metadata": {},
     "output_type": "execute_result"
    }
   ],
   "source": [
    "# melt the time series data for the zipcode\n",
    "harris_77093 = df[df['RegionName'] == 77093]\n",
    "harris_77093 = melt_data(harris_77093)\n",
    "harris_77093.head()"
   ]
  },
  {
   "cell_type": "code",
   "execution_count": 51,
   "metadata": {},
   "outputs": [
    {
     "data": {
      "image/png": "[encoded data removed]",
      "text/plain": [
       "<Figure size 864x576 with 1 Axes>"
      ]
     },
     "metadata": {},
     "output_type": "display_data"
    }
   ],
   "source": [
    "# Plot its property value over time\n",
    "harris_77093.plot(figsize=(12,8))\n",
    "plt.title('Propery Value Over Time in Zipcode 77093', fontsize=16)\n",
    "plt.xlabel('Year', fontsize=14)\n",
    "plt.xticks(fontsize=14)\n",
    "plt.yticks(fontsize=14)\n",
    "plt.ylabel('Value', fontsize=14);"
   ]
  },
  {
   "cell_type": "code",
   "execution_count": 54,
   "metadata": {},
   "outputs": [
    {
     "name": "stdout",
     "output_type": "stream",
     "text": [
      "                             ARIMA Model Results                              \n",
      "==============================================================================\n",
      "Dep. Variable:                D.value   No. Observations:                  264\n",
      "Model:                 ARIMA(2, 1, 1)   Log Likelihood               -1872.895\n",
      "Method:                       css-mle   S.D. of innovations            290.722\n",
      "Date:                Thu, 06 Aug 2020   AIC                           3755.790\n",
      "Time:                        21:32:54   BIC                           3773.670\n",
      "Sample:                    05-01-1996   HQIC                          3762.975\n",
      "                         - 04-01-2018                                         \n",
      "=================================================================================\n",
      "                    coef    std err          z      P>|z|      [0.025      0.975]\n",
      "---------------------------------------------------------------------------------\n",
      "const           236.7199     99.589      2.377      0.017      41.530     431.910\n",
      "ar.L1.D.value     0.5311      0.113      4.698      0.000       0.310       0.753\n",
      "ar.L2.D.value     0.1797      0.107      1.676      0.094      -0.030       0.390\n",
      "ma.L1.D.value     0.6293      0.089      7.088      0.000       0.455       0.803\n",
      "                                    Roots                                    \n",
      "=============================================================================\n",
      "                  Real          Imaginary           Modulus         Frequency\n",
      "-----------------------------------------------------------------------------\n",
      "AR.1            1.3059           +0.0000j            1.3059            0.0000\n",
      "AR.2           -4.2612           +0.0000j            4.2612            0.5000\n",
      "MA.1           -1.5891           +0.0000j            1.5891            0.5000\n",
      "-----------------------------------------------------------------------------\n"
     ]
    },
    {
     "data": {
      "image/png": "[encoded data removed]",
      "text/plain": [
       "<Figure size 576x396 with 1 Axes>"
      ]
     },
     "metadata": {},
     "output_type": "display_data"
    }
   ],
   "source": [
    "# plug the optimal parameter values into a new ARIMA model for that zipcode\n",
    "model_77093 = ARIMA(harris_77093, order = (2, 1, 1))\n",
    "# Fit the model for the zipcode \n",
    "model_77093_fit = model_77093.fit(disp=0)\n",
    "# Print the summary table and plot predict\n",
    "print(model_77093_fit.summary())\n",
    "model_77093_fit.plot_predict();"
   ]
  },
  {
   "cell_type": "code",
   "execution_count": 55,
   "metadata": {},
   "outputs": [],
   "source": [
    "# Make a forecast for 3 years of investment\n",
    "forecast_77093 = model_77093_fit.forecast(36)\n",
    "actual_forecast_77093 = forecast_77093[0]\n",
    "forecast_conf_int_77093 = forecast_77093[2]"
   ]
  },
  {
   "cell_type": "code",
   "execution_count": 56,
   "metadata": {},
   "outputs": [],
   "source": [
    "# make dataframe with forecast and 95% confidence interval \n",
    "df_forecast_77093 = pd.DataFrame({'time': pd.date_range(start = '2017-05-01', end = '2020-04-01', freq = 'MS')})\n",
    "df_forecast_77093['forecast'] = actual_forecast_77093\n",
    "df_forecast_77093['lower_bound'] = forecast_conf_int_77093[:, 0]\n",
    "df_forecast_77093['upper_bound'] = forecast_conf_int_77093[:, 1]\n",
    "df_forecast_77093.set_index('time', inplace = True)"
   ]
  },
  {
   "cell_type": "code",
   "execution_count": 58,
   "metadata": {},
   "outputs": [],
   "source": [
    "# combine raw data dataframe and forecast dataframe\n",
    "df_77093 = pd.concat([harris_77093, df_forecast_77093])"
   ]
  },
  {
   "cell_type": "code",
   "execution_count": 59,
   "metadata": {},
   "outputs": [
    {
     "data": {
      "text/plain": [
       "Text(0.5, 1.0, 'Forecast for Zipcode 77093')"
      ]
     },
     "execution_count": 59,
     "metadata": {},
     "output_type": "execute_result"
    },
    {
     "data": {
      "image/png": "[encoded data removed]",
      "text/plain": [
       "<Figure size 864x576 with 1 Axes>"
      ]
     },
     "metadata": {},
     "output_type": "display_data"
    }
   ],
   "source": [
    "fig = plt.figure(figsize = (12, 8))\n",
    "\n",
    "plt.plot(df_77093['value'], label = 'Raw Fata')\n",
    "plt.plot(df_77093['forecast'], label = 'Forecast')\n",
    "plt.fill_between(df_77093.index, df_77093['lower_bound'], df_77093['upper_bound'], \n",
    "                 color=\"k\", alpha=.15, label = 'Confidence Interval')\n",
    "plt.legend(loc = 'upper left')\n",
    "plt.title('Forecast for Zipcode 77093', fontsize=14)"
   ]
  },
  {
   "cell_type": "code",
   "execution_count": 60,
   "metadata": {},
   "outputs": [],
   "source": [
    "# Predict property value after 3 years\n",
    "forecast_77093_3yrs = df_77093.loc['2020-04-01', 'forecast']\n",
    "forecast_77093_lower = df_77093.loc['2020-04-01', 'lower_bound']\n",
    "forecast_77093_upper = df_77093.loc['2020-04-01', 'upper_bound']"
   ]
  },
  {
   "cell_type": "code",
   "execution_count": 61,
   "metadata": {},
   "outputs": [],
   "source": [
    "last_price_77093 = harris_77093.loc['2017-05-01', 'value']"
   ]
  },
  {
   "cell_type": "code",
   "execution_count": 62,
   "metadata": {},
   "outputs": [
    {
     "name": "stdout",
     "output_type": "stream",
     "text": [
      "Predicted percentage return on investment in 77093\n"
     ]
    },
    {
     "data": {
      "text/plain": [
       "time\n",
       "2020-04-01    31.810229\n",
       "Name: forecast, dtype: float64"
      ]
     },
     "execution_count": 62,
     "metadata": {},
     "output_type": "execute_result"
    }
   ],
   "source": [
    "percent_return_77093 = (forecast_77093_3yrs - last_price_77093) / last_price_77093\n",
    "print('Predicted percentage return on investment in 77093')\n",
    "percent_return_77093*100"
   ]
  },
  {
   "cell_type": "code",
   "execution_count": 63,
   "metadata": {},
   "outputs": [
    {
     "name": "stdout",
     "output_type": "stream",
     "text": [
      "The max return on investment in 77093\n"
     ]
    },
    {
     "data": {
      "text/plain": [
       "time\n",
       "2020-04-01    52.151445\n",
       "Name: upper_bound, dtype: float64"
      ]
     },
     "execution_count": 63,
     "metadata": {},
     "output_type": "execute_result"
    }
   ],
   "source": [
    "best_return_77093 = (forecast_77093_upper - last_price_77093) / last_price_77093\n",
    "print('The max return on investment in 77093')\n",
    "best_return_77093*100"
   ]
  },
  {
   "cell_type": "code",
   "execution_count": 64,
   "metadata": {},
   "outputs": [
    {
     "name": "stdout",
     "output_type": "stream",
     "text": [
      "In the worst case, the percentage return on investment in 77093 is:\n"
     ]
    },
    {
     "data": {
      "text/plain": [
       "time\n",
       "2020-04-01    11.469014\n",
       "Name: lower_bound, dtype: float64"
      ]
     },
     "execution_count": 64,
     "metadata": {},
     "output_type": "execute_result"
    }
   ],
   "source": [
    "worst_return_77093 = (forecast_77093_lower - last_price_77093) / last_price_77093\n",
    "print('In the worst case, the percentage return on investment in 77093 is:')\n",
    "worst_return_77093*100"
   ]
  },
  {
   "cell_type": "markdown",
   "metadata": {},
   "source": [
    "### 4) Zipcode: 77043"
   ]
  },
  {
   "cell_type": "code",
   "execution_count": 65,
   "metadata": {},
   "outputs": [
    {
     "data": {
      "text/html": [
       "<div>\n",
       "<style scoped>\n",
       "    .dataframe tbody tr th:only-of-type {\n",
       "        vertical-align: middle;\n",
       "    }\n",
       "\n",
       "    .dataframe tbody tr th {\n",
       "        vertical-align: top;\n",
       "    }\n",
       "\n",
       "    .dataframe thead th {\n",
       "        text-align: right;\n",
       "    }\n",
       "</style>\n",
       "<table border=\"1\" class=\"dataframe\">\n",
       "  <thead>\n",
       "    <tr style=\"text-align: right;\">\n",
       "      <th></th>\n",
       "      <th>value</th>\n",
       "    </tr>\n",
       "    <tr>\n",
       "      <th>time</th>\n",
       "      <th></th>\n",
       "    </tr>\n",
       "  </thead>\n",
       "  <tbody>\n",
       "    <tr>\n",
       "      <th>1996-04-01</th>\n",
       "      <td>123400.0</td>\n",
       "    </tr>\n",
       "    <tr>\n",
       "      <th>1996-05-01</th>\n",
       "      <td>123300.0</td>\n",
       "    </tr>\n",
       "    <tr>\n",
       "      <th>1996-06-01</th>\n",
       "      <td>123300.0</td>\n",
       "    </tr>\n",
       "    <tr>\n",
       "      <th>1996-07-01</th>\n",
       "      <td>123500.0</td>\n",
       "    </tr>\n",
       "    <tr>\n",
       "      <th>1996-08-01</th>\n",
       "      <td>123800.0</td>\n",
       "    </tr>\n",
       "  </tbody>\n",
       "</table>\n",
       "</div>"
      ],
      "text/plain": [
       "               value\n",
       "time                \n",
       "1996-04-01  123400.0\n",
       "1996-05-01  123300.0\n",
       "1996-06-01  123300.0\n",
       "1996-07-01  123500.0\n",
       "1996-08-01  123800.0"
      ]
     },
     "execution_count": 65,
     "metadata": {},
     "output_type": "execute_result"
    }
   ],
   "source": [
    "# melt the time series data for the zipcode\n",
    "harris_77043 = df[df['RegionName'] == 77043]\n",
    "harris_77043 = melt_data(harris_77043)\n",
    "harris_77043.head()"
   ]
  },
  {
   "cell_type": "code",
   "execution_count": 66,
   "metadata": {},
   "outputs": [
    {
     "data": {
      "image/png": "[encoded data removed]",
      "text/plain": [
       "<Figure size 864x576 with 1 Axes>"
      ]
     },
     "metadata": {},
     "output_type": "display_data"
    }
   ],
   "source": [
    "# Plot its property value over time\n",
    "harris_77043.plot(figsize=(12,8))\n",
    "plt.title('Propery Value Over Time in Zipcode 77043', fontsize=16)\n",
    "plt.xlabel('Year', fontsize=14)\n",
    "plt.xticks(fontsize=14)\n",
    "plt.yticks(fontsize=14)\n",
    "plt.ylabel('Value', fontsize=14);"
   ]
  },
  {
   "cell_type": "code",
   "execution_count": 67,
   "metadata": {},
   "outputs": [
    {
     "name": "stdout",
     "output_type": "stream",
     "text": [
      "                             ARIMA Model Results                              \n",
      "==============================================================================\n",
      "Dep. Variable:                D.value   No. Observations:                  264\n",
      "Model:                 ARIMA(1, 1, 1)   Log Likelihood               -2011.576\n",
      "Method:                       css-mle   S.D. of innovations            490.549\n",
      "Date:                Thu, 06 Aug 2020   AIC                           4031.152\n",
      "Time:                        21:38:15   BIC                           4045.456\n",
      "Sample:                    05-01-1996   HQIC                          4036.900\n",
      "                         - 04-01-2018                                         \n",
      "=================================================================================\n",
      "                    coef    std err          z      P>|z|      [0.025      0.975]\n",
      "---------------------------------------------------------------------------------\n",
      "const           734.1114    361.649      2.030      0.042      25.292    1442.931\n",
      "ar.L1.D.value     0.8693      0.031     28.282      0.000       0.809       0.930\n",
      "ma.L1.D.value     0.6067      0.040     15.090      0.000       0.528       0.685\n",
      "                                    Roots                                    \n",
      "=============================================================================\n",
      "                  Real          Imaginary           Modulus         Frequency\n",
      "-----------------------------------------------------------------------------\n",
      "AR.1            1.1504           +0.0000j            1.1504            0.0000\n",
      "MA.1           -1.6483           +0.0000j            1.6483            0.5000\n",
      "-----------------------------------------------------------------------------\n"
     ]
    },
    {
     "data": {
      "image/png": "[encoded data removed]",
      "text/plain": [
       "<Figure size 576x396 with 1 Axes>"
      ]
     },
     "metadata": {},
     "output_type": "display_data"
    }
   ],
   "source": [
    "# plug the optimal parameter values into a new ARIMA model for that zipcode\n",
    "model_77043 = ARIMA(harris_77043, order = (1, 1, 1))\n",
    "# Fit the model for the zipcode \n",
    "model_77043_fit = model_77043.fit(disp=0)\n",
    "# Print the summary table and plot predict\n",
    "print(model_77043_fit.summary())\n",
    "model_77043_fit.plot_predict();"
   ]
  },
  {
   "cell_type": "code",
   "execution_count": 68,
   "metadata": {},
   "outputs": [],
   "source": [
    "# Make a forecast for 3 years of investment\n",
    "forecast_77043 = model_77043_fit.forecast(36)\n",
    "actual_forecast_77043 = forecast_77043[0]\n",
    "forecast_conf_int_77043 = forecast_77043[2]"
   ]
  },
  {
   "cell_type": "code",
   "execution_count": 69,
   "metadata": {},
   "outputs": [],
   "source": [
    "# make dataframe with forecast and 95% confidence interval \n",
    "df_forecast_77043 = pd.DataFrame({'time': pd.date_range(start = '2017-05-01', end = '2020-04-01', freq = 'MS')})\n",
    "df_forecast_77043['forecast'] = actual_forecast_77043\n",
    "df_forecast_77043['lower_bound'] = forecast_conf_int_77043[:, 0]\n",
    "df_forecast_77043['upper_bound'] = forecast_conf_int_77043[:, 1]\n",
    "df_forecast_77043.set_index('time', inplace = True)"
   ]
  },
  {
   "cell_type": "code",
   "execution_count": 70,
   "metadata": {},
   "outputs": [],
   "source": [
    "# combine raw data dataframe and forecast dataframe\n",
    "df_77043 = pd.concat([harris_77043, df_forecast_77043])"
   ]
  },
  {
   "cell_type": "code",
   "execution_count": 71,
   "metadata": {},
   "outputs": [
    {
     "data": {
      "text/plain": [
       "Text(0.5, 1.0, 'Forecast for Zipcode 77043')"
      ]
     },
     "execution_count": 71,
     "metadata": {},
     "output_type": "execute_result"
    },
    {
     "data": {
      "image/png": "[encoded data removed]",
      "text/plain": [
       "<Figure size 864x576 with 1 Axes>"
      ]
     },
     "metadata": {},
     "output_type": "display_data"
    }
   ],
   "source": [
    "fig = plt.figure(figsize = (12, 8))\n",
    "\n",
    "plt.plot(df_77043['value'], label = 'Raw Fata')\n",
    "plt.plot(df_77043['forecast'], label = 'Forecast')\n",
    "plt.fill_between(df_77043.index, df_77043['lower_bound'], df_77043['upper_bound'], \n",
    "                 color=\"k\", alpha=.15, label = 'Confidence Interval')\n",
    "plt.legend(loc = 'upper left')\n",
    "plt.title('Forecast for Zipcode 77043', fontsize=14)"
   ]
  },
  {
   "cell_type": "code",
   "execution_count": 72,
   "metadata": {},
   "outputs": [],
   "source": [
    "# Predict property value after 3 years\n",
    "forecast_77043_3yrs = df_77043.loc['2020-04-01', 'forecast']\n",
    "forecast_77043_lower = df_77043.loc['2020-04-01', 'lower_bound']\n",
    "forecast_77043_upper = df_77043.loc['2020-04-01', 'upper_bound']"
   ]
  },
  {
   "cell_type": "code",
   "execution_count": 74,
   "metadata": {},
   "outputs": [],
   "source": [
    "last_price_77043 = harris_77043.loc['2017-05-01', 'value']"
   ]
  },
  {
   "cell_type": "code",
   "execution_count": 75,
   "metadata": {},
   "outputs": [
    {
     "name": "stdout",
     "output_type": "stream",
     "text": [
      "Predicted percentage return on investment in 77043\n"
     ]
    },
    {
     "data": {
      "text/plain": [
       "time\n",
       "2020-04-01    22.532827\n",
       "Name: forecast, dtype: float64"
      ]
     },
     "execution_count": 75,
     "metadata": {},
     "output_type": "execute_result"
    }
   ],
   "source": [
    "percent_return_77043 = (forecast_77043_3yrs - last_price_77043) / last_price_77043\n",
    "print('Predicted percentage return on investment in 77043')\n",
    "percent_return_77043*100"
   ]
  },
  {
   "cell_type": "code",
   "execution_count": 76,
   "metadata": {},
   "outputs": [
    {
     "name": "stdout",
     "output_type": "stream",
     "text": [
      "The max return on investment in 77043\n"
     ]
    },
    {
     "data": {
      "text/plain": [
       "time\n",
       "2020-04-01    43.473385\n",
       "Name: upper_bound, dtype: float64"
      ]
     },
     "execution_count": 76,
     "metadata": {},
     "output_type": "execute_result"
    }
   ],
   "source": [
    "best_return_77043 = (forecast_77043_upper - last_price_77043) / last_price_77043\n",
    "print('The max return on investment in 77043')\n",
    "best_return_77043*100"
   ]
  },
  {
   "cell_type": "code",
   "execution_count": 77,
   "metadata": {},
   "outputs": [
    {
     "name": "stdout",
     "output_type": "stream",
     "text": [
      "In the worst case, the percentage return on investment in 77043 is:\n"
     ]
    },
    {
     "data": {
      "text/plain": [
       "time\n",
       "2020-04-01    1.592268\n",
       "Name: lower_bound, dtype: float64"
      ]
     },
     "execution_count": 77,
     "metadata": {},
     "output_type": "execute_result"
    }
   ],
   "source": [
    "worst_return_77043 = (forecast_77043_lower - last_price_77043) / last_price_77043\n",
    "print('In the worst case, the percentage return on investment in 77043 is:')\n",
    "worst_return_77043*100"
   ]
  },
  {
   "cell_type": "markdown",
   "metadata": {},
   "source": [
    "### 5) Zipcode: 77017"
   ]
  },
  {
   "cell_type": "code",
   "execution_count": 78,
   "metadata": {},
   "outputs": [
    {
     "data": {
      "text/html": [
       "<div>\n",
       "<style scoped>\n",
       "    .dataframe tbody tr th:only-of-type {\n",
       "        vertical-align: middle;\n",
       "    }\n",
       "\n",
       "    .dataframe tbody tr th {\n",
       "        vertical-align: top;\n",
       "    }\n",
       "\n",
       "    .dataframe thead th {\n",
       "        text-align: right;\n",
       "    }\n",
       "</style>\n",
       "<table border=\"1\" class=\"dataframe\">\n",
       "  <thead>\n",
       "    <tr style=\"text-align: right;\">\n",
       "      <th></th>\n",
       "      <th>value</th>\n",
       "    </tr>\n",
       "    <tr>\n",
       "      <th>time</th>\n",
       "      <th></th>\n",
       "    </tr>\n",
       "  </thead>\n",
       "  <tbody>\n",
       "    <tr>\n",
       "      <th>1996-04-01</th>\n",
       "      <td>55700.0</td>\n",
       "    </tr>\n",
       "    <tr>\n",
       "      <th>1996-05-01</th>\n",
       "      <td>55700.0</td>\n",
       "    </tr>\n",
       "    <tr>\n",
       "      <th>1996-06-01</th>\n",
       "      <td>55800.0</td>\n",
       "    </tr>\n",
       "    <tr>\n",
       "      <th>1996-07-01</th>\n",
       "      <td>55800.0</td>\n",
       "    </tr>\n",
       "    <tr>\n",
       "      <th>1996-08-01</th>\n",
       "      <td>55900.0</td>\n",
       "    </tr>\n",
       "  </tbody>\n",
       "</table>\n",
       "</div>"
      ],
      "text/plain": [
       "              value\n",
       "time               \n",
       "1996-04-01  55700.0\n",
       "1996-05-01  55700.0\n",
       "1996-06-01  55800.0\n",
       "1996-07-01  55800.0\n",
       "1996-08-01  55900.0"
      ]
     },
     "execution_count": 78,
     "metadata": {},
     "output_type": "execute_result"
    }
   ],
   "source": [
    "# melt the time series data for the zipcode\n",
    "harris_77017 = df[df['RegionName'] == 77017]\n",
    "harris_77017 = melt_data(harris_77017)\n",
    "harris_77017.head()"
   ]
  },
  {
   "cell_type": "code",
   "execution_count": 79,
   "metadata": {},
   "outputs": [
    {
     "data": {
      "image/png": "[encoded data removed]",
      "text/plain": [
       "<Figure size 864x576 with 1 Axes>"
      ]
     },
     "metadata": {},
     "output_type": "display_data"
    }
   ],
   "source": [
    "# Plot its property value over time\n",
    "harris_77017.plot(figsize=(12,8))\n",
    "plt.title('Propery Value Over Time in Zipcode 77017', fontsize=16)\n",
    "plt.xlabel('Year', fontsize=14)\n",
    "plt.xticks(fontsize=14)\n",
    "plt.yticks(fontsize=14)\n",
    "plt.ylabel('Value', fontsize=14);"
   ]
  },
  {
   "cell_type": "code",
   "execution_count": 80,
   "metadata": {},
   "outputs": [
    {
     "name": "stdout",
     "output_type": "stream",
     "text": [
      "                             ARIMA Model Results                              \n",
      "==============================================================================\n",
      "Dep. Variable:                D.value   No. Observations:                  264\n",
      "Model:                 ARIMA(1, 1, 1)   Log Likelihood               -1816.275\n",
      "Method:                       css-mle   S.D. of innovations            234.414\n",
      "Date:                Thu, 06 Aug 2020   AIC                           3640.549\n",
      "Time:                        21:51:08   BIC                           3654.853\n",
      "Sample:                    05-01-1996   HQIC                          3646.297\n",
      "                         - 04-01-2018                                         \n",
      "=================================================================================\n",
      "                    coef    std err          z      P>|z|      [0.025      0.975]\n",
      "---------------------------------------------------------------------------------\n",
      "const           262.3743    112.956      2.323      0.020      40.984     483.765\n",
      "ar.L1.D.value     0.8143      0.039     20.897      0.000       0.738       0.891\n",
      "ma.L1.D.value     0.4787      0.058      8.194      0.000       0.364       0.593\n",
      "                                    Roots                                    \n",
      "=============================================================================\n",
      "                  Real          Imaginary           Modulus         Frequency\n",
      "-----------------------------------------------------------------------------\n",
      "AR.1            1.2280           +0.0000j            1.2280            0.0000\n",
      "MA.1           -2.0892           +0.0000j            2.0892            0.5000\n",
      "-----------------------------------------------------------------------------\n"
     ]
    },
    {
     "data": {
      "image/png": "[encoded data removed]",
      "text/plain": [
       "<Figure size 576x396 with 1 Axes>"
      ]
     },
     "metadata": {},
     "output_type": "display_data"
    }
   ],
   "source": [
    "# plug the optimal parameter values into a new ARIMA model for that zipcode\n",
    "model_77017 = ARIMA(harris_77017, order = (1, 1, 1))\n",
    "# Fit the model for the zipcode \n",
    "model_77017_fit = model_77017.fit(disp=0)\n",
    "# Print the summary table and plot predict\n",
    "print(model_77017_fit.summary())\n",
    "model_77017_fit.plot_predict();"
   ]
  },
  {
   "cell_type": "code",
   "execution_count": 81,
   "metadata": {},
   "outputs": [],
   "source": [
    "# Make a forecast for 3 years of investment\n",
    "forecast_77017 = model_77017_fit.forecast(36)\n",
    "actual_forecast_77017 = forecast_77017[0]\n",
    "forecast_conf_int_77017 = forecast_77017[2]"
   ]
  },
  {
   "cell_type": "code",
   "execution_count": 82,
   "metadata": {},
   "outputs": [],
   "source": [
    "# make dataframe with forecast and 95% confidence interval \n",
    "df_forecast_77017 = pd.DataFrame({'time': pd.date_range(start = '2017-05-01', end = '2020-04-01', freq = 'MS')})\n",
    "df_forecast_77017['forecast'] = actual_forecast_77017\n",
    "df_forecast_77017['lower_bound'] = forecast_conf_int_77017[:, 0]\n",
    "df_forecast_77017['upper_bound'] = forecast_conf_int_77017[:, 1]\n",
    "df_forecast_77017.set_index('time', inplace = True)"
   ]
  },
  {
   "cell_type": "code",
   "execution_count": 83,
   "metadata": {},
   "outputs": [],
   "source": [
    "# combine raw data dataframe and forecast dataframe\n",
    "df_77017 = pd.concat([harris_77017, df_forecast_77017])"
   ]
  },
  {
   "cell_type": "code",
   "execution_count": 84,
   "metadata": {},
   "outputs": [
    {
     "data": {
      "text/plain": [
       "Text(0.5, 1.0, 'Forecast for Zipcode 77017')"
      ]
     },
     "execution_count": 84,
     "metadata": {},
     "output_type": "execute_result"
    },
    {
     "data": {
      "image/png": "[encoded data removed]",
      "text/plain": [
       "<Figure size 864x576 with 1 Axes>"
      ]
     },
     "metadata": {},
     "output_type": "display_data"
    }
   ],
   "source": [
    "fig = plt.figure(figsize = (12, 8))\n",
    "\n",
    "plt.plot(df_77017['value'], label = 'Raw Fata')\n",
    "plt.plot(df_77017['forecast'], label = 'Forecast')\n",
    "plt.fill_between(df_77017.index, df_77017['lower_bound'], df_77017['upper_bound'], \n",
    "                 color=\"k\", alpha=.15, label = 'Confidence Interval')\n",
    "plt.legend(loc = 'upper left')\n",
    "plt.title('Forecast for Zipcode 77017', fontsize=14)"
   ]
  },
  {
   "cell_type": "code",
   "execution_count": 85,
   "metadata": {},
   "outputs": [],
   "source": [
    "# Predict property value after 3 years\n",
    "forecast_77017_3yrs = df_77017.loc['2020-04-01', 'forecast']\n",
    "forecast_77017_lower = df_77017.loc['2020-04-01', 'lower_bound']\n",
    "forecast_77017_upper = df_77017.loc['2020-04-01', 'upper_bound']"
   ]
  },
  {
   "cell_type": "code",
   "execution_count": 86,
   "metadata": {},
   "outputs": [],
   "source": [
    "last_price_77017 = harris_77017.loc['2017-05-01', 'value']"
   ]
  },
  {
   "cell_type": "code",
   "execution_count": 87,
   "metadata": {},
   "outputs": [
    {
     "name": "stdout",
     "output_type": "stream",
     "text": [
      "Predicted percentage return on investment in 77017\n"
     ]
    },
    {
     "data": {
      "text/plain": [
       "time\n",
       "2020-04-01    21.98368\n",
       "Name: forecast, dtype: float64"
      ]
     },
     "execution_count": 87,
     "metadata": {},
     "output_type": "execute_result"
    }
   ],
   "source": [
    "percent_return_77017 = (forecast_77017_3yrs - last_price_77017) / last_price_77017\n",
    "print('Predicted percentage return on investment in 77017')\n",
    "percent_return_77017*100"
   ]
  },
  {
   "cell_type": "code",
   "execution_count": 88,
   "metadata": {},
   "outputs": [
    {
     "name": "stdout",
     "output_type": "stream",
     "text": [
      "The max return on investment in 77017\n"
     ]
    },
    {
     "data": {
      "text/plain": [
       "time\n",
       "2020-04-01    266.597018\n",
       "Name: upper_bound, dtype: float64"
      ]
     },
     "execution_count": 88,
     "metadata": {},
     "output_type": "execute_result"
    }
   ],
   "source": [
    "best_return_77017 = (forecast_77043_upper - last_price_77017) / last_price_77017\n",
    "print('The max return on investment in 77017')\n",
    "best_return_77017*100"
   ]
  },
  {
   "cell_type": "code",
   "execution_count": 89,
   "metadata": {},
   "outputs": [
    {
     "name": "stdout",
     "output_type": "stream",
     "text": [
      "In the worst case, the percentage return on investment in 77017 is:\n"
     ]
    },
    {
     "data": {
      "text/plain": [
       "time\n",
       "2020-04-01    4.357893\n",
       "Name: lower_bound, dtype: float64"
      ]
     },
     "execution_count": 89,
     "metadata": {},
     "output_type": "execute_result"
    }
   ],
   "source": [
    "worst_return_77017 = (forecast_77017_lower - last_price_77017) / last_price_77017\n",
    "print('In the worst case, the percentage return on investment in 77017 is:')\n",
    "worst_return_77017*100"
   ]
  }
 ],
 "metadata": {
  "kernelspec": {
   "display_name": "Python 3",
   "language": "python",
   "name": "python3"
  },
  "language_info": {
   "codemirror_mode": {
    "name": "ipython",
    "version": 3
   },
   "file_extension": ".py",
   "mimetype": "text/x-python",
   "name": "python",
   "nbconvert_exporter": "python",
   "pygments_lexer": "ipython3",
   "version": "3.7.6"
  }
 },
 "nbformat": 4,
 "nbformat_minor": 2
}
